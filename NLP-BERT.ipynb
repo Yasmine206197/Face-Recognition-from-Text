{
  "cells": [
    {
      "cell_type": "code",
      "execution_count": null,
      "metadata": {
        "colab": {
          "base_uri": "https://localhost:8080/"
        },
        "id": "upM9Mxxl-K4j",
        "outputId": "846e6503-78b6-4434-fdad-31ec8c2565d2"
      },
      "outputs": [
        {
          "name": "stdout",
          "output_type": "stream",
          "text": [
            "Looking in indexes: https://pypi.org/simple, https://us-python.pkg.dev/colab-wheels/public/simple/\n",
            "Collecting transformers\n",
            "  Downloading transformers-4.28.1-py3-none-any.whl (7.0 MB)\n",
            "\u001b[2K     \u001b[90m━━━━━━━━━━━━━━━━━━━━━━━━━━━━━━━━━━━━━━━━\u001b[0m \u001b[32m7.0/7.0 MB\u001b[0m \u001b[31m52.0 MB/s\u001b[0m eta \u001b[36m0:00:00\u001b[0m\n",
            "\u001b[?25hRequirement already satisfied: filelock in /usr/local/lib/python3.9/dist-packages (from transformers) (3.11.0)\n",
            "Requirement already satisfied: pyyaml>=5.1 in /usr/local/lib/python3.9/dist-packages (from transformers) (6.0)\n",
            "Requirement already satisfied: requests in /usr/local/lib/python3.9/dist-packages (from transformers) (2.27.1)\n",
            "Collecting huggingface-hub<1.0,>=0.11.0\n",
            "  Downloading huggingface_hub-0.13.4-py3-none-any.whl (200 kB)\n",
            "\u001b[2K     \u001b[90m━━━━━━━━━━━━━━━━━━━━━━━━━━━━━━━━━━━━━━\u001b[0m \u001b[32m200.1/200.1 kB\u001b[0m \u001b[31m22.4 MB/s\u001b[0m eta \u001b[36m0:00:00\u001b[0m\n",
            "\u001b[?25hRequirement already satisfied: regex!=2019.12.17 in /usr/local/lib/python3.9/dist-packages (from transformers) (2022.10.31)\n",
            "Requirement already satisfied: tqdm>=4.27 in /usr/local/lib/python3.9/dist-packages (from transformers) (4.65.0)\n",
            "Collecting tokenizers!=0.11.3,<0.14,>=0.11.1\n",
            "  Downloading tokenizers-0.13.3-cp39-cp39-manylinux_2_17_x86_64.manylinux2014_x86_64.whl (7.8 MB)\n",
            "\u001b[2K     \u001b[90m━━━━━━━━━━━━━━━━━━━━━━━━━━━━━━━━━━━━━━━━\u001b[0m \u001b[32m7.8/7.8 MB\u001b[0m \u001b[31m84.6 MB/s\u001b[0m eta \u001b[36m0:00:00\u001b[0m\n",
            "\u001b[?25hRequirement already satisfied: numpy>=1.17 in /usr/local/lib/python3.9/dist-packages (from transformers) (1.22.4)\n",
            "Requirement already satisfied: packaging>=20.0 in /usr/local/lib/python3.9/dist-packages (from transformers) (23.1)\n",
            "Requirement already satisfied: typing-extensions>=3.7.4.3 in /usr/local/lib/python3.9/dist-packages (from huggingface-hub<1.0,>=0.11.0->transformers) (4.5.0)\n",
            "Requirement already satisfied: urllib3<1.27,>=1.21.1 in /usr/local/lib/python3.9/dist-packages (from requests->transformers) (1.26.15)\n",
            "Requirement already satisfied: idna<4,>=2.5 in /usr/local/lib/python3.9/dist-packages (from requests->transformers) (3.4)\n",
            "Requirement already satisfied: certifi>=2017.4.17 in /usr/local/lib/python3.9/dist-packages (from requests->transformers) (2022.12.7)\n",
            "Requirement already satisfied: charset-normalizer~=2.0.0 in /usr/local/lib/python3.9/dist-packages (from requests->transformers) (2.0.12)\n",
            "Installing collected packages: tokenizers, huggingface-hub, transformers\n",
            "Successfully installed huggingface-hub-0.13.4 tokenizers-0.13.3 transformers-4.28.1\n"
          ]
        }
      ],
      "source": [
        "!pip install transformers"
      ]
    },
    {
      "cell_type": "code",
      "execution_count": null,
      "metadata": {
        "colab": {
          "base_uri": "https://localhost:8080/",
          "height": 443
        },
        "id": "MSS4UTyd5HE2",
        "outputId": "212c5aef-3097-4c6b-ed54-d8bdb8fb1729"
      },
      "outputs": [
        {
          "name": "stdout",
          "output_type": "stream",
          "text": [
            "Looking in indexes: https://pypi.org/simple, https://us-python.pkg.dev/colab-wheels/public/simple/\n",
            "\u001b[31mERROR: Could not find a version that satisfies the requirement helper_prabowo_ml (from versions: none)\u001b[0m\u001b[31m\n",
            "\u001b[0m\u001b[31mERROR: No matching distribution found for helper_prabowo_ml\u001b[0m\u001b[31m\n",
            "\u001b[0m"
          ]
        },
        {
          "ename": "ModuleNotFoundError",
          "evalue": "ignored",
          "output_type": "error",
          "traceback": [
            "\u001b[0;31m---------------------------------------------------------------------------\u001b[0m",
            "\u001b[0;31mModuleNotFoundError\u001b[0m                       Traceback (most recent call last)",
            "\u001b[0;32m<ipython-input-7-fc913130254a>\u001b[0m in \u001b[0;36m<cell line: 29>\u001b[0;34m()\u001b[0m\n\u001b[1;32m     27\u001b[0m \u001b[0;32mimport\u001b[0m \u001b[0mos\u001b[0m\u001b[0;34m\u001b[0m\u001b[0;34m\u001b[0m\u001b[0m\n\u001b[1;32m     28\u001b[0m \u001b[0mget_ipython\u001b[0m\u001b[0;34m(\u001b[0m\u001b[0;34m)\u001b[0m\u001b[0;34m.\u001b[0m\u001b[0msystem\u001b[0m\u001b[0;34m(\u001b[0m\u001b[0;34m'pip install helper_prabowo_ml'\u001b[0m\u001b[0;34m)\u001b[0m\u001b[0;34m\u001b[0m\u001b[0;34m\u001b[0m\u001b[0m\n\u001b[0;32m---> 29\u001b[0;31m \u001b[0;32mfrom\u001b[0m \u001b[0mhelper_prabowo_ml\u001b[0m \u001b[0;32mimport\u001b[0m \u001b[0mclean_html\u001b[0m\u001b[0;34m,\u001b[0m \u001b[0mremove_links\u001b[0m\u001b[0;34m,\u001b[0m \u001b[0mnon_ascii\u001b[0m\u001b[0;34m,\u001b[0m \u001b[0mlower\u001b[0m\u001b[0;34m,\u001b[0m \u001b[0memail_address\u001b[0m\u001b[0;34m,\u001b[0m \u001b[0mremoveStopWords\u001b[0m\u001b[0;34m,\u001b[0m \u001b[0mpunct\u001b[0m\u001b[0;34m,\u001b[0m \u001b[0mremove_\u001b[0m\u001b[0;34m,\u001b[0m \u001b[0mremove_special_characters\u001b[0m\u001b[0;34m,\u001b[0m \u001b[0mremove_digits\u001b[0m\u001b[0;34m\u001b[0m\u001b[0;34m\u001b[0m\u001b[0m\n\u001b[0m\u001b[1;32m     30\u001b[0m \u001b[0;32mimport\u001b[0m \u001b[0mmatplotlib\u001b[0m\u001b[0;34m.\u001b[0m\u001b[0mpyplot\u001b[0m \u001b[0;32mas\u001b[0m \u001b[0mplt\u001b[0m\u001b[0;34m\u001b[0m\u001b[0;34m\u001b[0m\u001b[0m\n\u001b[1;32m     31\u001b[0m \u001b[0;32mimport\u001b[0m \u001b[0mwarnings\u001b[0m\u001b[0;34m,\u001b[0m \u001b[0mre\u001b[0m\u001b[0;34m\u001b[0m\u001b[0;34m\u001b[0m\u001b[0m\n",
            "\u001b[0;31mModuleNotFoundError\u001b[0m: No module named 'helper_prabowo_ml'",
            "",
            "\u001b[0;31m---------------------------------------------------------------------------\u001b[0;32m\nNOTE: If your import is failing due to a missing package, you can\nmanually install dependencies using either !pip or !apt.\n\nTo view examples of installing some common dependencies, click the\n\"Open Examples\" button below.\n\u001b[0;31m---------------------------------------------------------------------------\u001b[0m\n"
          ]
        }
      ],
      "source": [
        "import pandas as pd\n",
        "import string\n",
        "import nltk\n",
        "from nltk.corpus import stopwords\n",
        "from nltk.corpus import wordnet\n",
        "from nltk.stem import PorterStemmer\n",
        "from textblob import TextBlob\n",
        "from tqdm import tqdm\n",
        "from time import time\n",
        "from collections import defaultdict\n",
        "import seaborn as sns\n",
        "import numpy as np\n",
        "import spacy\n",
        "import multiprocessing\n",
        "from tensorflow.keras.callbacks import EarlyStopping\n",
        "\n",
        "from gensim.models import Word2Vec\n",
        "import logging\n",
        "logging.basicConfig(format=\"%(levelname)s - %(asctime)s: %(message)s\", datefmt= '%H:%M:%S', level=logging.INFO)\n",
        "from transformers import AutoTokenizer, TFBertModel\n",
        "from tensorflow.keras.layers import Dense, Input, GlobalMaxPool1D, Dropout\n",
        "from tensorflow.keras.models import Model\n",
        "from tensorflow.keras.losses import CategoricalCrossentropy\n",
        "from tensorflow.keras.metrics import CategoricalAccuracy\n",
        "from tensorflow.keras.optimizers import Adam\n",
        "from tensorflow.keras.utils import to_categorical\n",
        "import os\n",
        "!pip install helper_prabowo_ml\n",
        "import matplotlib.pyplot as plt\n",
        "import warnings, re\n",
        "warnings.filterwarnings(\"ignore\")\n",
        "from sklearn.model_selection import train_test_split\n",
        "from transformers import AutoTokenizer, TFBertModel\n",
        "from tensorflow.keras.utils import to_categorical\n",
        "import tensorflow as tf\n",
        "from tensorflow.keras.models import Model\n",
        "from tensorflow.keras.initializers import TruncatedNormal\n",
        "from tensorflow.keras.losses import CategoricalCrossentropy\n",
        "from tensorflow.keras.metrics import CategoricalAccuracy\n",
        "from sklearn.metrics import classification_report\n",
        "from tensorflow.keras.utils import plot_model\n",
        "\n"
      ]
    },
    {
      "cell_type": "code",
      "execution_count": null,
      "metadata": {
        "id": "Cx2Ql_SN8wbI"
      },
      "outputs": [],
      "source": [
        "train = pd.read_csv(\"/content/train.csv\", delimiter=';', header=None, names=['sentence','label'])\n",
        "test = pd.read_csv(\"/content/test.csv\", delimiter=';', header=None, names=['sentence','label'])\n",
        "val = pd.read_csv(\"/content/val.csv\", delimiter=';', header=None, names=['sentence','label'])"
      ]
    },
    {
      "cell_type": "code",
      "execution_count": null,
      "metadata": {
        "id": "xBlF3Ci24GV6"
      },
      "outputs": [],
      "source": [
        "train1 = train.copy()\n",
        "test1 = test.copy()\n",
        "val1 = val.copy()"
      ]
    },
    {
      "cell_type": "code",
      "execution_count": null,
      "metadata": {
        "colab": {
          "base_uri": "https://localhost:8080/",
          "height": 206
        },
        "id": "VxmV0wX75MY-",
        "outputId": "2ae11b03-9288-41f1-cb03-7f0ce85597b8"
      },
      "outputs": [
        {
          "data": {
            "text/html": [
              "\n",
              "  <div id=\"df-9c8176d6-5e5f-43b1-8c9a-96ebc5ccaebf\">\n",
              "    <div class=\"colab-df-container\">\n",
              "      <div>\n",
              "<style scoped>\n",
              "    .dataframe tbody tr th:only-of-type {\n",
              "        vertical-align: middle;\n",
              "    }\n",
              "\n",
              "    .dataframe tbody tr th {\n",
              "        vertical-align: top;\n",
              "    }\n",
              "\n",
              "    .dataframe thead th {\n",
              "        text-align: right;\n",
              "    }\n",
              "</style>\n",
              "<table border=\"1\" class=\"dataframe\">\n",
              "  <thead>\n",
              "    <tr style=\"text-align: right;\">\n",
              "      <th></th>\n",
              "      <th>sentence</th>\n",
              "      <th>label</th>\n",
              "    </tr>\n",
              "  </thead>\n",
              "  <tbody>\n",
              "    <tr>\n",
              "      <th>0</th>\n",
              "      <td>i didnt feel humiliated</td>\n",
              "      <td>sadness</td>\n",
              "    </tr>\n",
              "    <tr>\n",
              "      <th>1</th>\n",
              "      <td>i can go from feeling so hopeless to so damned...</td>\n",
              "      <td>sadness</td>\n",
              "    </tr>\n",
              "    <tr>\n",
              "      <th>2</th>\n",
              "      <td>im grabbing a minute to post i feel greedy wrong</td>\n",
              "      <td>anger</td>\n",
              "    </tr>\n",
              "    <tr>\n",
              "      <th>3</th>\n",
              "      <td>i am ever feeling nostalgic about the fireplac...</td>\n",
              "      <td>love</td>\n",
              "    </tr>\n",
              "    <tr>\n",
              "      <th>4</th>\n",
              "      <td>i am feeling grouchy</td>\n",
              "      <td>anger</td>\n",
              "    </tr>\n",
              "  </tbody>\n",
              "</table>\n",
              "</div>\n",
              "      <button class=\"colab-df-convert\" onclick=\"convertToInteractive('df-9c8176d6-5e5f-43b1-8c9a-96ebc5ccaebf')\"\n",
              "              title=\"Convert this dataframe to an interactive table.\"\n",
              "              style=\"display:none;\">\n",
              "        \n",
              "  <svg xmlns=\"http://www.w3.org/2000/svg\" height=\"24px\"viewBox=\"0 0 24 24\"\n",
              "       width=\"24px\">\n",
              "    <path d=\"M0 0h24v24H0V0z\" fill=\"none\"/>\n",
              "    <path d=\"M18.56 5.44l.94 2.06.94-2.06 2.06-.94-2.06-.94-.94-2.06-.94 2.06-2.06.94zm-11 1L8.5 8.5l.94-2.06 2.06-.94-2.06-.94L8.5 2.5l-.94 2.06-2.06.94zm10 10l.94 2.06.94-2.06 2.06-.94-2.06-.94-.94-2.06-.94 2.06-2.06.94z\"/><path d=\"M17.41 7.96l-1.37-1.37c-.4-.4-.92-.59-1.43-.59-.52 0-1.04.2-1.43.59L10.3 9.45l-7.72 7.72c-.78.78-.78 2.05 0 2.83L4 21.41c.39.39.9.59 1.41.59.51 0 1.02-.2 1.41-.59l7.78-7.78 2.81-2.81c.8-.78.8-2.07 0-2.86zM5.41 20L4 18.59l7.72-7.72 1.47 1.35L5.41 20z\"/>\n",
              "  </svg>\n",
              "      </button>\n",
              "      \n",
              "  <style>\n",
              "    .colab-df-container {\n",
              "      display:flex;\n",
              "      flex-wrap:wrap;\n",
              "      gap: 12px;\n",
              "    }\n",
              "\n",
              "    .colab-df-convert {\n",
              "      background-color: #E8F0FE;\n",
              "      border: none;\n",
              "      border-radius: 50%;\n",
              "      cursor: pointer;\n",
              "      display: none;\n",
              "      fill: #1967D2;\n",
              "      height: 32px;\n",
              "      padding: 0 0 0 0;\n",
              "      width: 32px;\n",
              "    }\n",
              "\n",
              "    .colab-df-convert:hover {\n",
              "      background-color: #E2EBFA;\n",
              "      box-shadow: 0px 1px 2px rgba(60, 64, 67, 0.3), 0px 1px 3px 1px rgba(60, 64, 67, 0.15);\n",
              "      fill: #174EA6;\n",
              "    }\n",
              "\n",
              "    [theme=dark] .colab-df-convert {\n",
              "      background-color: #3B4455;\n",
              "      fill: #D2E3FC;\n",
              "    }\n",
              "\n",
              "    [theme=dark] .colab-df-convert:hover {\n",
              "      background-color: #434B5C;\n",
              "      box-shadow: 0px 1px 3px 1px rgba(0, 0, 0, 0.15);\n",
              "      filter: drop-shadow(0px 1px 2px rgba(0, 0, 0, 0.3));\n",
              "      fill: #FFFFFF;\n",
              "    }\n",
              "  </style>\n",
              "\n",
              "      <script>\n",
              "        const buttonEl =\n",
              "          document.querySelector('#df-9c8176d6-5e5f-43b1-8c9a-96ebc5ccaebf button.colab-df-convert');\n",
              "        buttonEl.style.display =\n",
              "          google.colab.kernel.accessAllowed ? 'block' : 'none';\n",
              "\n",
              "        async function convertToInteractive(key) {\n",
              "          const element = document.querySelector('#df-9c8176d6-5e5f-43b1-8c9a-96ebc5ccaebf');\n",
              "          const dataTable =\n",
              "            await google.colab.kernel.invokeFunction('convertToInteractive',\n",
              "                                                     [key], {});\n",
              "          if (!dataTable) return;\n",
              "\n",
              "          const docLinkHtml = 'Like what you see? Visit the ' +\n",
              "            '<a target=\"_blank\" href=https://colab.research.google.com/notebooks/data_table.ipynb>data table notebook</a>'\n",
              "            + ' to learn more about interactive tables.';\n",
              "          element.innerHTML = '';\n",
              "          dataTable['output_type'] = 'display_data';\n",
              "          await google.colab.output.renderOutput(dataTable, element);\n",
              "          const docLink = document.createElement('div');\n",
              "          docLink.innerHTML = docLinkHtml;\n",
              "          element.appendChild(docLink);\n",
              "        }\n",
              "      </script>\n",
              "    </div>\n",
              "  </div>\n",
              "  "
            ],
            "text/plain": [
              "                                            sentence    label\n",
              "0                            i didnt feel humiliated  sadness\n",
              "1  i can go from feeling so hopeless to so damned...  sadness\n",
              "2   im grabbing a minute to post i feel greedy wrong    anger\n",
              "3  i am ever feeling nostalgic about the fireplac...     love\n",
              "4                               i am feeling grouchy    anger"
            ]
          },
          "execution_count": 228,
          "metadata": {},
          "output_type": "execute_result"
        }
      ],
      "source": [
        "train.head()"
      ]
    },
    {
      "cell_type": "code",
      "execution_count": null,
      "metadata": {
        "colab": {
          "base_uri": "https://localhost:8080/"
        },
        "id": "ULyP4Tyy5Ofp",
        "outputId": "01b7e7fd-258c-4dae-d284-9c499fef8be1"
      },
      "outputs": [
        {
          "data": {
            "text/plain": [
              "sentence    0\n",
              "label       0\n",
              "dtype: int64"
            ]
          },
          "execution_count": 229,
          "metadata": {},
          "output_type": "execute_result"
        }
      ],
      "source": [
        "train.isna().sum()"
      ]
    },
    {
      "cell_type": "code",
      "execution_count": null,
      "metadata": {
        "colab": {
          "base_uri": "https://localhost:8080/"
        },
        "id": "eGjP9-E-5jdF",
        "outputId": "5cb8a858-4bd7-42e7-91ab-e2bdae6aee22"
      },
      "outputs": [
        {
          "data": {
            "text/plain": [
              "sentence    object\n",
              "label       object\n",
              "dtype: object"
            ]
          },
          "execution_count": 230,
          "metadata": {},
          "output_type": "execute_result"
        }
      ],
      "source": [
        "train.dtypes"
      ]
    },
    {
      "cell_type": "code",
      "execution_count": null,
      "metadata": {
        "colab": {
          "base_uri": "https://localhost:8080/"
        },
        "id": "RYv9pKxwT4Rp",
        "outputId": "54e797e8-29cb-40a3-e5e3-6306bff4cb6f"
      },
      "outputs": [
        {
          "data": {
            "text/plain": [
              "((16000, 2), (2000, 2), (2000, 2))"
            ]
          },
          "execution_count": 231,
          "metadata": {},
          "output_type": "execute_result"
        }
      ],
      "source": [
        "train.shape, test.shape, val.shape"
      ]
    },
    {
      "cell_type": "code",
      "execution_count": null,
      "metadata": {
        "id": "Ho-CWxTCT4bU"
      },
      "outputs": [],
      "source": []
    },
    {
      "cell_type": "markdown",
      "metadata": {
        "id": "n4zHPFJPEW5b"
      },
      "source": [
        "# <center>Preprocessing</center>"
      ]
    },
    {
      "cell_type": "markdown",
      "metadata": {
        "id": "d9047eda"
      },
      "source": [
        "## Lowercase"
      ]
    },
    {
      "cell_type": "code",
      "execution_count": null,
      "metadata": {
        "colab": {
          "base_uri": "https://localhost:8080/"
        },
        "id": "3bc52a51",
        "outputId": "167394ea-91af-4721-88e4-f3bd51b039bb"
      },
      "outputs": [
        {
          "data": {
            "text/plain": [
              "0                                  i didnt feel humiliated\n",
              "1        i can go from feeling so hopeless to so damned...\n",
              "2         im grabbing a minute to post i feel greedy wrong\n",
              "3        i am ever feeling nostalgic about the fireplac...\n",
              "4                                     i am feeling grouchy\n",
              "                               ...                        \n",
              "15995    i just had a very brief time in the beanbag an...\n",
              "15996    i am now turning and i feel pathetic that i am...\n",
              "15997                       i feel strong and good overall\n",
              "15998    i feel like this was such a rude comment and i...\n",
              "15999    i know a lot but i feel so stupid because i ca...\n",
              "Name: sentence, Length: 16000, dtype: object"
            ]
          },
          "execution_count": 232,
          "metadata": {},
          "output_type": "execute_result"
        }
      ],
      "source": [
        "#changing the text column to lowercase in train df\n",
        "train[\"sentence\"] = train[\"sentence\"].str.lower()\n",
        "train.sentence"
      ]
    },
    {
      "cell_type": "code",
      "execution_count": null,
      "metadata": {
        "colab": {
          "base_uri": "https://localhost:8080/"
        },
        "id": "Z5Ol3m1I6ab7",
        "outputId": "7fed01af-9965-4860-fb9d-0d5f320e6aff"
      },
      "outputs": [
        {
          "data": {
            "text/plain": [
              "0       im feeling rather rotten so im not very ambiti...\n",
              "1               im updating my blog because i feel shitty\n",
              "2       i never make her separate from me because i do...\n",
              "3       i left with my bouquet of red and yellow tulip...\n",
              "4         i was feeling a little vain when i did this one\n",
              "                              ...                        \n",
              "1995    i just keep feeling like someone is being unki...\n",
              "1996    im feeling a little cranky negative after this...\n",
              "1997    i feel that i am useful to my people and that ...\n",
              "1998    im feeling more comfortable with derby i feel ...\n",
              "1999    i feel all weird when i have to meet w people ...\n",
              "Name: sentence, Length: 2000, dtype: object"
            ]
          },
          "execution_count": 233,
          "metadata": {},
          "output_type": "execute_result"
        }
      ],
      "source": [
        "#changing the text column to lowercase in test df\n",
        "test[\"sentence\"] = test[\"sentence\"].str.lower()\n",
        "test.sentence"
      ]
    },
    {
      "cell_type": "code",
      "execution_count": null,
      "metadata": {
        "colab": {
          "base_uri": "https://localhost:8080/"
        },
        "id": "ZBUJqFQx6aj3",
        "outputId": "4f30fa66-c711-425d-c061-29f25881c7a2"
      },
      "outputs": [
        {
          "data": {
            "text/plain": [
              "0       im feeling quite sad and sorry for myself but ...\n",
              "1       i feel like i am still looking at a blank canv...\n",
              "2                          i feel like a faithful servant\n",
              "3                       i am just feeling cranky and blue\n",
              "4       i can have for a treat or if i am feeling festive\n",
              "                              ...                        \n",
              "1995    im having ssa examination tomorrow in the morn...\n",
              "1996    i constantly worry about their fight against n...\n",
              "1997    i feel its important to share this info for th...\n",
              "1998    i truly feel that if you are passionate enough...\n",
              "1999    i feel like i just wanna buy any cute make up ...\n",
              "Name: sentence, Length: 2000, dtype: object"
            ]
          },
          "execution_count": 234,
          "metadata": {},
          "output_type": "execute_result"
        }
      ],
      "source": [
        "#changing the text column to lowercase in val df\n",
        "val[\"sentence\"] = val[\"sentence\"].str.lower()\n",
        "val.sentence"
      ]
    },
    {
      "cell_type": "markdown",
      "metadata": {
        "id": "be065432"
      },
      "source": [
        "## Punctuation removal"
      ]
    },
    {
      "cell_type": "code",
      "execution_count": null,
      "metadata": {
        "colab": {
          "base_uri": "https://localhost:8080/",
          "height": 36
        },
        "id": "08c68305",
        "outputId": "a966dc90-be45-4bfe-a864-9fcd92704bb3"
      },
      "outputs": [
        {
          "data": {
            "application/vnd.google.colaboratory.intrinsic+json": {
              "type": "string"
            },
            "text/plain": [
              "'!\"#$%&\\'()*+,-./:;<=>?@[\\\\]^_`{|}~'"
            ]
          },
          "execution_count": 235,
          "metadata": {},
          "output_type": "execute_result"
        }
      ],
      "source": [
        "#All the charcters in the string lib\n",
        "string.punctuation"
      ]
    },
    {
      "cell_type": "code",
      "execution_count": null,
      "metadata": {
        "id": "e87bd5f9"
      },
      "outputs": [],
      "source": [
        "#Takes a text string as input and removes all punctuation marks from it using the translate method and a string of punctuation characters.\n",
        "def Punc_remove(text):\n",
        "    punc = string.punctuation + \"’‘“”\"\n",
        "    return text.translate(str.maketrans('', '', punc))"
      ]
    },
    {
      "cell_type": "code",
      "execution_count": null,
      "metadata": {
        "id": "b5f62332"
      },
      "outputs": [],
      "source": [
        "#This code applies the Punc_remove() function to the 'sentence' column to remove any text punctuations in train df\n",
        "train['sentence'] = train['sentence'].apply(lambda x: Punc_remove(x))"
      ]
    },
    {
      "cell_type": "code",
      "execution_count": null,
      "metadata": {
        "id": "odsYo4by7AW7"
      },
      "outputs": [],
      "source": [
        "#This code applies the Punc_remove() function to the 'sentence' column to remove any text punctuations in test sf\n",
        "test['sentence'] = test['sentence'].apply(lambda x: Punc_remove(x))"
      ]
    },
    {
      "cell_type": "code",
      "execution_count": null,
      "metadata": {
        "id": "ooBblfLz7Ah6"
      },
      "outputs": [],
      "source": [
        "#This code applies the Punc_remove() function to the 'sentence' column to remove any text punctuations in val sf\n",
        "val['sentence'] = val['sentence'].apply(lambda x: Punc_remove(x))"
      ]
    },
    {
      "cell_type": "code",
      "execution_count": null,
      "metadata": {
        "colab": {
          "base_uri": "https://localhost:8080/"
        },
        "id": "fb480d01",
        "outputId": "e4ca7ff1-3e11-4f9c-dfa4-728b4e23cd2c",
        "scrolled": false
      },
      "outputs": [
        {
          "data": {
            "text/plain": [
              "0                                  i didnt feel humiliated\n",
              "1        i can go from feeling so hopeless to so damned...\n",
              "2         im grabbing a minute to post i feel greedy wrong\n",
              "3        i am ever feeling nostalgic about the fireplac...\n",
              "4                                     i am feeling grouchy\n",
              "                               ...                        \n",
              "15995    i just had a very brief time in the beanbag an...\n",
              "15996    i am now turning and i feel pathetic that i am...\n",
              "15997                       i feel strong and good overall\n",
              "15998    i feel like this was such a rude comment and i...\n",
              "15999    i know a lot but i feel so stupid because i ca...\n",
              "Name: sentence, Length: 16000, dtype: object"
            ]
          },
          "execution_count": 240,
          "metadata": {},
          "output_type": "execute_result"
        }
      ],
      "source": [
        "train['sentence']"
      ]
    },
    {
      "cell_type": "markdown",
      "metadata": {
        "id": "c52048da"
      },
      "source": [
        "## Stopping words removal"
      ]
    },
    {
      "cell_type": "code",
      "execution_count": null,
      "metadata": {
        "colab": {
          "base_uri": "https://localhost:8080/"
        },
        "id": "d764484b",
        "outputId": "28385c9b-5411-419a-8cf6-69d48510a83f"
      },
      "outputs": [
        {
          "name": "stderr",
          "output_type": "stream",
          "text": [
            "[nltk_data] Downloading package stopwords to /root/nltk_data...\n",
            "[nltk_data]   Package stopwords is already up-to-date!\n"
          ]
        },
        {
          "data": {
            "text/plain": [
              "True"
            ]
          },
          "execution_count": 241,
          "metadata": {},
          "output_type": "execute_result"
        }
      ],
      "source": [
        "nltk.download('stopwords')"
      ]
    },
    {
      "cell_type": "code",
      "execution_count": null,
      "metadata": {
        "colab": {
          "base_uri": "https://localhost:8080/",
          "height": 140
        },
        "id": "497d5823",
        "outputId": "8765ab92-4a35-45f5-f086-65c3f7267e1e"
      },
      "outputs": [
        {
          "data": {
            "application/vnd.google.colaboratory.intrinsic+json": {
              "type": "string"
            },
            "text/plain": [
              "\"i , me , my , myself , we , our , ours , ourselves , you , you're , you've , you'll , you'd , your , yours , yourself , yourselves , he , him , his , himself , she , she's , her , hers , herself , it , it's , its , itself , they , them , their , theirs , themselves , what , which , who , whom , this , that , that'll , these , those , am , is , are , was , were , be , been , being , have , has , had , having , do , does , did , doing , a , an , the , and , but , if , or , because , as , until , while , of , at , by , for , with , about , against , between , into , through , during , before , after , above , below , to , from , up , down , in , out , on , off , over , under , again , further , then , once , here , there , when , where , why , how , all , any , both , each , few , more , most , other , some , such , no , nor , not , only , own , same , so , than , too , very , s , t , can , will , just , don , don't , should , should've , now , d , ll , m , o , re , ve , y , ain , aren , aren't , couldn , couldn't , didn , didn't , doesn , doesn't , hadn , hadn't , hasn , hasn't , haven , haven't , isn , isn't , ma , mightn , mightn't , mustn , mustn't , needn , needn't , shan , shan't , shouldn , shouldn't , wasn , wasn't , weren , weren't , won , won't , wouldn , wouldn't\""
            ]
          },
          "execution_count": 242,
          "metadata": {},
          "output_type": "execute_result"
        }
      ],
      "source": [
        "#English stopwords separated by commas using the NLTK\n",
        "\" , \".join(stopwords.words('english'))"
      ]
    },
    {
      "cell_type": "code",
      "execution_count": null,
      "metadata": {
        "id": "dd31ab49"
      },
      "outputs": [],
      "source": [
        "#This function removes the stop words from a given text.\n",
        "stop_words = set(stopwords.words('english'))\n",
        "def StopWords_removal(text):\n",
        "    SW = ' '.join([word for word in text.split() if word not in stop_words])\n",
        "    return SW"
      ]
    },
    {
      "cell_type": "code",
      "execution_count": null,
      "metadata": {
        "id": "ed04abc5"
      },
      "outputs": [],
      "source": [
        "#This code applies the StopWords_removal() function to the 'sentence' column to remove any text stop words in the train, test and val DFs\n",
        "train['sentence'] = train['sentence'].apply(lambda x: StopWords_removal(x))\n",
        "test['sentence'] = test['sentence'].apply(lambda x: StopWords_removal(x))\n",
        "val['sentence'] = val['sentence'].apply(lambda x: StopWords_removal(x))"
      ]
    },
    {
      "cell_type": "code",
      "execution_count": null,
      "metadata": {
        "colab": {
          "base_uri": "https://localhost:8080/"
        },
        "id": "46964d4f",
        "outputId": "994423b5-5793-4b6a-be06-2daf96ac1aa9"
      },
      "outputs": [
        {
          "data": {
            "text/plain": [
              "0                                    didnt feel humiliated\n",
              "1        go feeling hopeless damned hopeful around some...\n",
              "2                im grabbing minute post feel greedy wrong\n",
              "3        ever feeling nostalgic fireplace know still pr...\n",
              "4                                          feeling grouchy\n",
              "                               ...                        \n",
              "15995        brief time beanbag said anna feel like beaten\n",
              "15996    turning feel pathetic still waiting tables sub...\n",
              "15997                             feel strong good overall\n",
              "15998                       feel like rude comment im glad\n",
              "15999                         know lot feel stupid portray\n",
              "Name: sentence, Length: 16000, dtype: object"
            ]
          },
          "execution_count": 245,
          "metadata": {},
          "output_type": "execute_result"
        }
      ],
      "source": [
        "train['sentence']"
      ]
    },
    {
      "cell_type": "markdown",
      "metadata": {
        "id": "20bdabb8"
      },
      "source": [
        "## Frequent words"
      ]
    },
    {
      "cell_type": "code",
      "execution_count": null,
      "metadata": {
        "id": "70662160"
      },
      "outputs": [],
      "source": [
        "#Counts the frequency of each word in the \"text\" column we didn't remove them as they contain emotions that could help in the classification.\n",
        "from collections import Counter\n",
        "cnt = Counter()\n",
        "def Frequent_words(df_name):\n",
        "  for text in df_name[\"sentence\"].values:\n",
        "    for word in text.split():\n",
        "      cnt[word] += 1\n",
        "  print(cnt.most_common(10))\n"
      ]
    },
    {
      "cell_type": "code",
      "execution_count": null,
      "metadata": {
        "colab": {
          "base_uri": "https://localhost:8080/"
        },
        "id": "E50_No4h-rLN",
        "outputId": "cf531be7-5aa3-4172-bb68-5d2564a110ce"
      },
      "outputs": [
        {
          "name": "stdout",
          "output_type": "stream",
          "text": [
            "[('feel', 11183), ('feeling', 5112), ('like', 2908), ('im', 2430), ('really', 942), ('know', 853), ('time', 794), ('get', 740), ('little', 736), ('people', 654)]\n"
          ]
        }
      ],
      "source": [
        "Frequent_words(train)"
      ]
    },
    {
      "cell_type": "code",
      "execution_count": null,
      "metadata": {
        "colab": {
          "base_uri": "https://localhost:8080/"
        },
        "id": "h-_th8SB-rRf",
        "outputId": "87bfef01-2338-4b10-e2be-f0bf2d39f11a"
      },
      "outputs": [
        {
          "name": "stdout",
          "output_type": "stream",
          "text": [
            "[('feel', 12577), ('feeling', 5758), ('like', 3281), ('im', 2740), ('really', 1060), ('know', 955), ('time', 894), ('get', 837), ('little', 831), ('people', 750)]\n"
          ]
        }
      ],
      "source": [
        "Frequent_words(test)"
      ]
    },
    {
      "cell_type": "code",
      "execution_count": null,
      "metadata": {
        "colab": {
          "base_uri": "https://localhost:8080/"
        },
        "id": "-z41k0Jz_RpW",
        "outputId": "c5251a50-1822-4033-f01e-acad2bf146bb"
      },
      "outputs": [
        {
          "name": "stdout",
          "output_type": "stream",
          "text": [
            "[('feel', 13938), ('feeling', 6431), ('like', 3616), ('im', 3055), ('really', 1182), ('know', 1080), ('time', 993), ('little', 932), ('get', 926), ('people', 839)]\n"
          ]
        }
      ],
      "source": [
        "Frequent_words(val)"
      ]
    },
    {
      "cell_type": "code",
      "execution_count": null,
      "metadata": {
        "id": "5ECtozAcj6Xr"
      },
      "outputs": [],
      "source": [
        "train1 = train.copy()"
      ]
    },
    {
      "cell_type": "markdown",
      "metadata": {
        "id": "LJkBF76jXR2I"
      },
      "source": [
        "## Spelling Correction"
      ]
    },
    {
      "cell_type": "code",
      "execution_count": null,
      "metadata": {
        "id": "c-KfVZzweJNZ"
      },
      "outputs": [],
      "source": [
        "def correct_sentence_spelling(sentence):\n",
        "    sentence=str(sentence)\n",
        "    sentence = TextBlob(sentence)\n",
        "    result = sentence.correct()\n",
        "    return result"
      ]
    },
    {
      "cell_type": "code",
      "execution_count": null,
      "metadata": {
        "colab": {
          "background_save": true,
          "base_uri": "https://localhost:8080/",
          "height": 235
        },
        "id": "dNpbXEzq_-bK",
        "outputId": "2a96168f-743c-4b10-a102-38c5ee590e02"
      },
      "outputs": [
        {
          "name": "stderr",
          "output_type": "stream",
          "text": [
            "100%|██████████| 16000/16000 [23:54<00:00, 11.15it/s]\n"
          ]
        },
        {
          "data": {
            "text/plain": [
              "0        (d, i, d, n,  , f, e, e, l,  , h, u, m, i, l, ...\n",
              "1        (g, o,  , f, e, e, l, i, n, g,  , h, o, p, e, ...\n",
              "2        (i, n,  , g, r, a, f, t, i, n, g,  , m, i, n, ...\n",
              "3        (e, v, e, r,  , f, e, e, l, i, n, g,  , n, o, ...\n",
              "4               (f, e, e, l, i, n, g,  , c, r, o, u, c, h)\n",
              "                               ...                        \n",
              "15995    (b, r, i, e, f,  , t, i, m, e,  , b, e, a, n, ...\n",
              "15996    (t, u, r, n, i, n, g,  , f, e, e, l,  , p, a, ...\n",
              "15997    (f, e, e, l,  , s, t, r, o, n, g,  , g, o, o, ...\n",
              "15998    (f, e, e, l,  , l, i, k, e,  , r, u, d, e,  , ...\n",
              "15999    (k, n, o, w,  , l, o, t,  , f, e, e, l,  , s, ...\n",
              "Name: sentence, Length: 16000, dtype: object"
            ]
          },
          "execution_count": 28,
          "metadata": {},
          "output_type": "execute_result"
        }
      ],
      "source": [
        "with tqdm(total=len(train)) as pbar:\n",
        "    for i, row in train.iterrows():\n",
        "        train.at[i, 'sentence'] = correct_sentence_spelling(row['sentence'])\n",
        "        pbar.update(1)\n",
        "\n",
        "train['sentence'] = train['sentence'].apply(lambda x: correct_sentence_spelling(''.join(x)))\n",
        "train['sentence']"
      ]
    },
    {
      "cell_type": "code",
      "execution_count": null,
      "metadata": {
        "id": "eIXcWessAKOe"
      },
      "outputs": [],
      "source": [
        "with tqdm(total=len(test)) as pbar:\n",
        "    for i, row in test.iterrows():\n",
        "        test.at[i, 'sentence'] = correct_sentence_spelling(row['sentence'])\n",
        "        pbar.update(1)\n",
        "\n",
        "test['sentence'] = test['sentence'].apply(lambda x: correct_sentence_spelling(x))\n",
        "test['sentence']"
      ]
    },
    {
      "cell_type": "code",
      "execution_count": null,
      "metadata": {
        "id": "cgu81_zrAXak"
      },
      "outputs": [],
      "source": [
        "with tqdm(total=len(val)) as pbar:\n",
        "    for i, row in val.iterrows():\n",
        "        val.at[i, 'sentence'] = correct_sentence_spelling(row['sentence'])\n",
        "        pbar.update(1)\n",
        "\n",
        "val['sentence'] = val['sentence'].apply(lambda x: correct_sentence_spelling(x))\n",
        "val['sentence']"
      ]
    },
    {
      "cell_type": "code",
      "execution_count": null,
      "metadata": {
        "id": "sMchgfh-iux-"
      },
      "outputs": [],
      "source": []
    },
    {
      "cell_type": "markdown",
      "metadata": {
        "id": "242c20b6"
      },
      "source": [
        "## Tokenization"
      ]
    },
    {
      "cell_type": "code",
      "execution_count": null,
      "metadata": {
        "id": "50c451b2"
      },
      "outputs": [],
      "source": [
        "nltk.download('punkt');"
      ]
    },
    {
      "cell_type": "code",
      "execution_count": null,
      "metadata": {
        "id": "0bdc47a9"
      },
      "outputs": [],
      "source": [
        "def tokenize(column):\n",
        "    tokens = nltk.word_tokenize(str(column)) # Convert to string before tokenizing\n",
        "    return [w for w in tokens if w.isalpha()]"
      ]
    },
    {
      "cell_type": "code",
      "execution_count": null,
      "metadata": {
        "id": "5ff6efcc"
      },
      "outputs": [],
      "source": [
        "train['sentence'] = train['sentence'].apply(lambda x: tokenize(x))\n",
        "test['sentence'] = test['sentence'].apply(lambda x: tokenize(x))\n",
        "val['sentence'] = val['sentence'].apply(lambda x: tokenize(x))"
      ]
    },
    {
      "cell_type": "code",
      "execution_count": null,
      "metadata": {
        "id": "4b6406d3"
      },
      "outputs": [],
      "source": [
        "train['sentence'].head()"
      ]
    },
    {
      "cell_type": "markdown",
      "metadata": {
        "id": "ydtj2tdRXk51"
      },
      "source": [
        "#Label Encoding"
      ]
    },
    {
      "cell_type": "code",
      "execution_count": null,
      "metadata": {
        "id": "BstSoqC9Xo3R"
      },
      "outputs": [],
      "source": [
        "from tensorflow.keras.utils import to_categorical\n",
        "from sklearn.preprocessing import LabelEncoder\n",
        "from keras.preprocessing.text import Tokenizer\n",
        "from tensorflow.keras.preprocessing.sequence import pad_sequences\n",
        "\n",
        "\n",
        "tokenizer = Tokenizer(num_words=10000, oov_token='<OOV>')\n",
        "tokenizer.fit_on_texts(train['sentence'])\n",
        "\n",
        "X_train = pad_sequences(tokenizer.texts_to_sequences(train['sentence']), maxlen=256, truncating='pre')\n",
        "X_test = pad_sequences(tokenizer.texts_to_sequences(test['sentence'].tolist()), maxlen=256, truncating='pre')\n",
        "X_val = pad_sequences(tokenizer.texts_to_sequences(val['sentence'].tolist()), maxlen=256, truncating='pre')\n",
        "\n",
        "le = LabelEncoder()\n",
        "y_train = le.fit_transform(train['label'])\n",
        "y_test = le.transform(test['label'])\n",
        "y_val = le.transform(val['label'])\n",
        "\n",
        "y_train = to_categorical(y_train)\n",
        "y_test = to_categorical(y_test)\n",
        "y_val = to_categorical(y_val)"
      ]
    },
    {
      "cell_type": "markdown",
      "metadata": {
        "id": "KHaDgMsQKerl"
      },
      "source": [
        "## Stemming"
      ]
    },
    {
      "cell_type": "code",
      "execution_count": null,
      "metadata": {
        "id": "hleSAfKT3uLI"
      },
      "outputs": [],
      "source": [
        "stemmer = PorterStemmer()\n",
        "\n",
        "def stem_tokens(tokens):\n",
        "    stemmed_tokens = [stemmer.stem(token) for token in tokens]\n",
        "    return stemmed_tokens"
      ]
    },
    {
      "cell_type": "code",
      "execution_count": null,
      "metadata": {
        "id": "rJ1wm1HxHX2W"
      },
      "outputs": [],
      "source": [
        "train['sentence'] = train['sentence'].apply(lambda x: stem_tokens(x))\n",
        "test['sentence'] = test['sentence'].apply(lambda x: stem_tokens(x))\n",
        "val['sentence'] = val['sentence'].apply(lambda x: stem_tokens(x))"
      ]
    },
    {
      "cell_type": "code",
      "execution_count": null,
      "metadata": {
        "id": "khg9QvWeDH_l"
      },
      "outputs": [],
      "source": [
        "train.head()"
      ]
    },
    {
      "cell_type": "markdown",
      "metadata": {
        "id": "Y4jJmpkYqXVl"
      },
      "source": [
        "#Training a Pre-trained Word2vec"
      ]
    },
    {
      "cell_type": "code",
      "execution_count": null,
      "metadata": {
        "id": "5bz7aiSrqe1l"
      },
      "outputs": [],
      "source": [
        "import multiprocessing\n",
        "\n",
        "from gensim.models import Word2Vec\n",
        "cores = multiprocessing.cpu_count()"
      ]
    },
    {
      "cell_type": "code",
      "execution_count": null,
      "metadata": {
        "id": "Ng2wNcautqU3"
      },
      "outputs": [],
      "source": [
        "w2v_model = Word2Vec(min_count=20,\n",
        "                     window=2,\n",
        "                     sample=6e-5,\n",
        "                     alpha=0.03,\n",
        "                     min_alpha=0.0007,\n",
        "                     negative=20,\n",
        "                     workers=cores-1)"
      ]
    },
    {
      "cell_type": "markdown",
      "metadata": {
        "id": "0vGTiDpdtxrA"
      },
      "source": [
        "##Building a vocab table"
      ]
    },
    {
      "cell_type": "code",
      "execution_count": null,
      "metadata": {
        "id": "CP5ncb56t25y"
      },
      "outputs": [],
      "source": [
        "t = time()\n",
        "\n",
        "w2v_model.build_vocab(train['sentence'], progress_per=10000)\n",
        "\n",
        "print('Time to build vocab: {} mins'.format(round((time() - t) / 60, 2)))\n"
      ]
    },
    {
      "cell_type": "code",
      "execution_count": null,
      "metadata": {
        "id": "UrJ0ocUYt_k0"
      },
      "outputs": [],
      "source": [
        "t = time()\n",
        "sentences = sentences = train['sentence']\n",
        "\n",
        "w2v_model = Word2Vec(sentences, min_count=1, workers=3, window=5)\n",
        "print('Time to train the model: {} mins'.format(round((time() - t) / 60, 2)))\n"
      ]
    },
    {
      "cell_type": "code",
      "execution_count": null,
      "metadata": {
        "id": "DC2NX3Zsuiov"
      },
      "outputs": [],
      "source": [
        "w2v_model.init_sims(replace=True)\n"
      ]
    },
    {
      "cell_type": "code",
      "execution_count": null,
      "metadata": {
        "id": "xRpyQOmGBynE"
      },
      "outputs": [],
      "source": [
        "w2v_model.wv.most_similar('feel')\n"
      ]
    },
    {
      "cell_type": "code",
      "execution_count": null,
      "metadata": {
        "id": "5yz2uoYTIMls"
      },
      "outputs": [],
      "source": []
    },
    {
      "cell_type": "code",
      "execution_count": null,
      "metadata": {
        "id": "oBtWbDUoHPnk"
      },
      "outputs": [],
      "source": [
        "import numpy as np\n",
        "from keras.preprocessing.text import Tokenizer\n",
        "from sklearn.model_selection import train_test_split\n",
        "\n",
        "\n",
        "max_features = 10000\n",
        "\n",
        "# Define embedding matrix\n",
        "vocab_size = len(w2v_model.wv.index_to_key)\n",
        "embedding_dim = 100\n",
        "embedding_matrix = np.zeros((vocab_size, embedding_dim))\n",
        "for word, i in w2v_model.wv.key_to_index.items():\n",
        "    embedding_matrix[i] = w2v_model.wv[word]"
      ]
    },
    {
      "cell_type": "code",
      "execution_count": null,
      "metadata": {
        "id": "4d8KgWizUeDc"
      },
      "outputs": [],
      "source": []
    },
    {
      "cell_type": "code",
      "execution_count": null,
      "metadata": {
        "id": "xvKFryAHUB_j"
      },
      "outputs": [],
      "source": [
        "max_features = vocab_size\n",
        "maxlen = X_train.shape[1]\n",
        "embedding_size = 200\n",
        "\n",
        "# Convolution\n",
        "kernel_size = 5\n",
        "filters = 128\n",
        "pool_size = 4\n",
        "\n",
        "# LSTM\n",
        "lstm_output_size = 128\n",
        "\n",
        "# Training\n",
        "#batch_size = 30\n",
        "#epochs = 2"
      ]
    },
    {
      "cell_type": "code",
      "execution_count": null,
      "metadata": {
        "id": "83I4vTMTH2SX"
      },
      "outputs": [],
      "source": [
        "from keras.models import Sequential\n",
        "from keras.layers import Dense, Dropout, Flatten, LSTM, Conv1D, MaxPooling1D, Embedding\n",
        "from tensorflow.keras.layers import Dense, LSTM, Embedding, Dropout, Activation, Flatten, Input, concatenate,TimeDistributed, Conv1D, GlobalMaxPooling1D, MaxPooling1D\n",
        "lstm_output_size = 128\n",
        "\n",
        "model = Sequential()\n",
        "model.add(Embedding(vocab_size, embedding_dim, weights=[embedding_matrix], input_length=maxlen))\n",
        "model.add(Dropout(0.25))\n",
        "model.add(Conv1D(filters,\n",
        "                 kernel_size,\n",
        "                 padding='valid',\n",
        "                 activation='relu',\n",
        "                 strides=1))\n",
        "model.add(MaxPooling1D(pool_size=pool_size))\n",
        "model.add(TimeDistributed(Flatten()))\n",
        "model.add(LSTM(lstm_output_size))\n",
        "model.add(Dense(6))\n",
        "model.add(Activation('softmax'))\n",
        "model.summary()\n",
        "\n",
        "\n",
        "\n",
        "\n",
        "\n"
      ]
    },
    {
      "cell_type": "code",
      "execution_count": null,
      "metadata": {
        "id": "Pi8r-Fx14GVb"
      },
      "outputs": [],
      "source": [
        "\n",
        "model.compile(loss='binary_crossentropy', optimizer='adam', metrics=['accuracy'])\n"
      ]
    },
    {
      "cell_type": "code",
      "execution_count": null,
      "metadata": {
        "id": "XonRz45FQDoG"
      },
      "outputs": [],
      "source": [
        "\n",
        "\n",
        "callback = EarlyStopping(\n",
        "    monitor=\"val_loss\",\n",
        "    patience=3,\n",
        "    restore_best_weights=True,\n",
        ")"
      ]
    },
    {
      "cell_type": "code",
      "execution_count": null,
      "metadata": {
        "id": "bb1rMEQ6Q1X4"
      },
      "outputs": [],
      "source": [
        "history = model.fit(X_train,\n",
        "                    y_train,\n",
        "                    validation_data=(X_val, y_val),\n",
        "                    verbose=1,\n",
        "                    batch_size=256,\n",
        "                    epochs=10)"
      ]
    },
    {
      "cell_type": "code",
      "execution_count": null,
      "metadata": {
        "id": "SEE_JZ845X2P"
      },
      "outputs": [],
      "source": []
    },
    {
      "cell_type": "code",
      "execution_count": null,
      "metadata": {
        "id": "VlpiTr8RQS9l"
      },
      "outputs": [],
      "source": []
    },
    {
      "cell_type": "code",
      "execution_count": null,
      "metadata": {
        "id": "Ek-sNymeQTAY"
      },
      "outputs": [],
      "source": []
    },
    {
      "cell_type": "code",
      "execution_count": null,
      "metadata": {
        "id": "dCUasaO6QTCv"
      },
      "outputs": [],
      "source": []
    },
    {
      "cell_type": "markdown",
      "metadata": {
        "id": "AGjWgV9QQTwF"
      },
      "source": [
        "<h2> BERT model"
      ]
    },
    {
      "cell_type": "code",
      "execution_count": null,
      "metadata": {
        "colab": {
          "base_uri": "https://localhost:8080/",
          "height": 206
        },
        "id": "9-CcKDFP3Vk4",
        "outputId": "522430ee-8299-45ef-ed83-5818c5e2d62d"
      },
      "outputs": [
        {
          "data": {
            "text/html": [
              "\n",
              "  <div id=\"df-43538814-0ead-44b0-8be2-25d91a20e60f\">\n",
              "    <div class=\"colab-df-container\">\n",
              "      <div>\n",
              "<style scoped>\n",
              "    .dataframe tbody tr th:only-of-type {\n",
              "        vertical-align: middle;\n",
              "    }\n",
              "\n",
              "    .dataframe tbody tr th {\n",
              "        vertical-align: top;\n",
              "    }\n",
              "\n",
              "    .dataframe thead th {\n",
              "        text-align: right;\n",
              "    }\n",
              "</style>\n",
              "<table border=\"1\" class=\"dataframe\">\n",
              "  <thead>\n",
              "    <tr style=\"text-align: right;\">\n",
              "      <th></th>\n",
              "      <th>index</th>\n",
              "      <th>sentence</th>\n",
              "      <th>label</th>\n",
              "    </tr>\n",
              "  </thead>\n",
              "  <tbody>\n",
              "    <tr>\n",
              "      <th>0</th>\n",
              "      <td>6325</td>\n",
              "      <td>feel incredibly slacking mrs greedy guts still...</td>\n",
              "      <td>anger</td>\n",
              "    </tr>\n",
              "    <tr>\n",
              "      <th>1</th>\n",
              "      <td>1656</td>\n",
              "      <td>im feeling very jaded and uncertain about love...</td>\n",
              "      <td>sadness</td>\n",
              "    </tr>\n",
              "    <tr>\n",
              "      <th>2</th>\n",
              "      <td>4543</td>\n",
              "      <td>standing oversized tee shirt baggy yoga pants ...</td>\n",
              "      <td>joy</td>\n",
              "    </tr>\n",
              "    <tr>\n",
              "      <th>3</th>\n",
              "      <td>1859</td>\n",
              "      <td>i thought maybe once i started running i would...</td>\n",
              "      <td>joy</td>\n",
              "    </tr>\n",
              "    <tr>\n",
              "      <th>4</th>\n",
              "      <td>479</td>\n",
              "      <td>didnt get wink sleep night continued feeling f...</td>\n",
              "      <td>joy</td>\n",
              "    </tr>\n",
              "  </tbody>\n",
              "</table>\n",
              "</div>\n",
              "      <button class=\"colab-df-convert\" onclick=\"convertToInteractive('df-43538814-0ead-44b0-8be2-25d91a20e60f')\"\n",
              "              title=\"Convert this dataframe to an interactive table.\"\n",
              "              style=\"display:none;\">\n",
              "        \n",
              "  <svg xmlns=\"http://www.w3.org/2000/svg\" height=\"24px\"viewBox=\"0 0 24 24\"\n",
              "       width=\"24px\">\n",
              "    <path d=\"M0 0h24v24H0V0z\" fill=\"none\"/>\n",
              "    <path d=\"M18.56 5.44l.94 2.06.94-2.06 2.06-.94-2.06-.94-.94-2.06-.94 2.06-2.06.94zm-11 1L8.5 8.5l.94-2.06 2.06-.94-2.06-.94L8.5 2.5l-.94 2.06-2.06.94zm10 10l.94 2.06.94-2.06 2.06-.94-2.06-.94-.94-2.06-.94 2.06-2.06.94z\"/><path d=\"M17.41 7.96l-1.37-1.37c-.4-.4-.92-.59-1.43-.59-.52 0-1.04.2-1.43.59L10.3 9.45l-7.72 7.72c-.78.78-.78 2.05 0 2.83L4 21.41c.39.39.9.59 1.41.59.51 0 1.02-.2 1.41-.59l7.78-7.78 2.81-2.81c.8-.78.8-2.07 0-2.86zM5.41 20L4 18.59l7.72-7.72 1.47 1.35L5.41 20z\"/>\n",
              "  </svg>\n",
              "      </button>\n",
              "      \n",
              "  <style>\n",
              "    .colab-df-container {\n",
              "      display:flex;\n",
              "      flex-wrap:wrap;\n",
              "      gap: 12px;\n",
              "    }\n",
              "\n",
              "    .colab-df-convert {\n",
              "      background-color: #E8F0FE;\n",
              "      border: none;\n",
              "      border-radius: 50%;\n",
              "      cursor: pointer;\n",
              "      display: none;\n",
              "      fill: #1967D2;\n",
              "      height: 32px;\n",
              "      padding: 0 0 0 0;\n",
              "      width: 32px;\n",
              "    }\n",
              "\n",
              "    .colab-df-convert:hover {\n",
              "      background-color: #E2EBFA;\n",
              "      box-shadow: 0px 1px 2px rgba(60, 64, 67, 0.3), 0px 1px 3px 1px rgba(60, 64, 67, 0.15);\n",
              "      fill: #174EA6;\n",
              "    }\n",
              "\n",
              "    [theme=dark] .colab-df-convert {\n",
              "      background-color: #3B4455;\n",
              "      fill: #D2E3FC;\n",
              "    }\n",
              "\n",
              "    [theme=dark] .colab-df-convert:hover {\n",
              "      background-color: #434B5C;\n",
              "      box-shadow: 0px 1px 3px 1px rgba(0, 0, 0, 0.15);\n",
              "      filter: drop-shadow(0px 1px 2px rgba(0, 0, 0, 0.3));\n",
              "      fill: #FFFFFF;\n",
              "    }\n",
              "  </style>\n",
              "\n",
              "      <script>\n",
              "        const buttonEl =\n",
              "          document.querySelector('#df-43538814-0ead-44b0-8be2-25d91a20e60f button.colab-df-convert');\n",
              "        buttonEl.style.display =\n",
              "          google.colab.kernel.accessAllowed ? 'block' : 'none';\n",
              "\n",
              "        async function convertToInteractive(key) {\n",
              "          const element = document.querySelector('#df-43538814-0ead-44b0-8be2-25d91a20e60f');\n",
              "          const dataTable =\n",
              "            await google.colab.kernel.invokeFunction('convertToInteractive',\n",
              "                                                     [key], {});\n",
              "          if (!dataTable) return;\n",
              "\n",
              "          const docLinkHtml = 'Like what you see? Visit the ' +\n",
              "            '<a target=\"_blank\" href=https://colab.research.google.com/notebooks/data_table.ipynb>data table notebook</a>'\n",
              "            + ' to learn more about interactive tables.';\n",
              "          element.innerHTML = '';\n",
              "          dataTable['output_type'] = 'display_data';\n",
              "          await google.colab.output.renderOutput(dataTable, element);\n",
              "          const docLink = document.createElement('div');\n",
              "          docLink.innerHTML = docLinkHtml;\n",
              "          element.appendChild(docLink);\n",
              "        }\n",
              "      </script>\n",
              "    </div>\n",
              "  </div>\n",
              "  "
            ],
            "text/plain": [
              "   index                                           sentence    label\n",
              "0   6325  feel incredibly slacking mrs greedy guts still...    anger\n",
              "1   1656  im feeling very jaded and uncertain about love...  sadness\n",
              "2   4543  standing oversized tee shirt baggy yoga pants ...      joy\n",
              "3   1859  i thought maybe once i started running i would...      joy\n",
              "4    479  didnt get wink sleep night continued feeling f...      joy"
            ]
          },
          "execution_count": 253,
          "metadata": {},
          "output_type": "execute_result"
        }
      ],
      "source": [
        "df = pd.concat([train1,val1,test1],axis=0)\n",
        "df = df.sample(frac=0.1)\n",
        "df = df.reset_index()\n",
        "df.head()"
      ]
    },
    {
      "cell_type": "code",
      "execution_count": null,
      "metadata": {
        "id": "H9sp752T3Vgi"
      },
      "outputs": [],
      "source": [
        "df.drop('index',axis=1,inplace=True)"
      ]
    },
    {
      "cell_type": "code",
      "execution_count": null,
      "metadata": {
        "id": "Q7HBn2K94ldN"
      },
      "outputs": [],
      "source": [
        "def preprocess_data(data,col):\n",
        "    data[col] = data[col].apply(func=StopWords_removal)\n",
        "    data[col] = data[col].apply(func=Punc_remove)\n",
        "    return data"
      ]
    },
    {
      "cell_type": "code",
      "execution_count": null,
      "metadata": {
        "colab": {
          "base_uri": "https://localhost:8080/",
          "height": 206
        },
        "id": "ALXLbvoV4lkZ",
        "outputId": "61783f2e-5ab6-4518-8a67-8dba750ceb0f"
      },
      "outputs": [
        {
          "output_type": "execute_result",
          "data": {
            "text/plain": [
              "                                            sentence    label\n",
              "0  feel incredibly slacking mrs greedy guts still...    anger\n",
              "1  im feeling jaded uncertain love basically im s...  sadness\n",
              "2  standing oversized tee shirt baggy yoga pants ...      joy\n",
              "3        thought maybe started running would feel ok      joy\n",
              "4  didnt get wink sleep night continued feeling f...      joy"
            ],
            "text/html": [
              "\n",
              "  <div id=\"df-549c4ebb-b1a7-4a33-8560-96b1ad573093\">\n",
              "    <div class=\"colab-df-container\">\n",
              "      <div>\n",
              "<style scoped>\n",
              "    .dataframe tbody tr th:only-of-type {\n",
              "        vertical-align: middle;\n",
              "    }\n",
              "\n",
              "    .dataframe tbody tr th {\n",
              "        vertical-align: top;\n",
              "    }\n",
              "\n",
              "    .dataframe thead th {\n",
              "        text-align: right;\n",
              "    }\n",
              "</style>\n",
              "<table border=\"1\" class=\"dataframe\">\n",
              "  <thead>\n",
              "    <tr style=\"text-align: right;\">\n",
              "      <th></th>\n",
              "      <th>sentence</th>\n",
              "      <th>label</th>\n",
              "    </tr>\n",
              "  </thead>\n",
              "  <tbody>\n",
              "    <tr>\n",
              "      <th>0</th>\n",
              "      <td>feel incredibly slacking mrs greedy guts still...</td>\n",
              "      <td>anger</td>\n",
              "    </tr>\n",
              "    <tr>\n",
              "      <th>1</th>\n",
              "      <td>im feeling jaded uncertain love basically im s...</td>\n",
              "      <td>sadness</td>\n",
              "    </tr>\n",
              "    <tr>\n",
              "      <th>2</th>\n",
              "      <td>standing oversized tee shirt baggy yoga pants ...</td>\n",
              "      <td>joy</td>\n",
              "    </tr>\n",
              "    <tr>\n",
              "      <th>3</th>\n",
              "      <td>thought maybe started running would feel ok</td>\n",
              "      <td>joy</td>\n",
              "    </tr>\n",
              "    <tr>\n",
              "      <th>4</th>\n",
              "      <td>didnt get wink sleep night continued feeling f...</td>\n",
              "      <td>joy</td>\n",
              "    </tr>\n",
              "  </tbody>\n",
              "</table>\n",
              "</div>\n",
              "      <button class=\"colab-df-convert\" onclick=\"convertToInteractive('df-549c4ebb-b1a7-4a33-8560-96b1ad573093')\"\n",
              "              title=\"Convert this dataframe to an interactive table.\"\n",
              "              style=\"display:none;\">\n",
              "        \n",
              "  <svg xmlns=\"http://www.w3.org/2000/svg\" height=\"24px\"viewBox=\"0 0 24 24\"\n",
              "       width=\"24px\">\n",
              "    <path d=\"M0 0h24v24H0V0z\" fill=\"none\"/>\n",
              "    <path d=\"M18.56 5.44l.94 2.06.94-2.06 2.06-.94-2.06-.94-.94-2.06-.94 2.06-2.06.94zm-11 1L8.5 8.5l.94-2.06 2.06-.94-2.06-.94L8.5 2.5l-.94 2.06-2.06.94zm10 10l.94 2.06.94-2.06 2.06-.94-2.06-.94-.94-2.06-.94 2.06-2.06.94z\"/><path d=\"M17.41 7.96l-1.37-1.37c-.4-.4-.92-.59-1.43-.59-.52 0-1.04.2-1.43.59L10.3 9.45l-7.72 7.72c-.78.78-.78 2.05 0 2.83L4 21.41c.39.39.9.59 1.41.59.51 0 1.02-.2 1.41-.59l7.78-7.78 2.81-2.81c.8-.78.8-2.07 0-2.86zM5.41 20L4 18.59l7.72-7.72 1.47 1.35L5.41 20z\"/>\n",
              "  </svg>\n",
              "      </button>\n",
              "      \n",
              "  <style>\n",
              "    .colab-df-container {\n",
              "      display:flex;\n",
              "      flex-wrap:wrap;\n",
              "      gap: 12px;\n",
              "    }\n",
              "\n",
              "    .colab-df-convert {\n",
              "      background-color: #E8F0FE;\n",
              "      border: none;\n",
              "      border-radius: 50%;\n",
              "      cursor: pointer;\n",
              "      display: none;\n",
              "      fill: #1967D2;\n",
              "      height: 32px;\n",
              "      padding: 0 0 0 0;\n",
              "      width: 32px;\n",
              "    }\n",
              "\n",
              "    .colab-df-convert:hover {\n",
              "      background-color: #E2EBFA;\n",
              "      box-shadow: 0px 1px 2px rgba(60, 64, 67, 0.3), 0px 1px 3px 1px rgba(60, 64, 67, 0.15);\n",
              "      fill: #174EA6;\n",
              "    }\n",
              "\n",
              "    [theme=dark] .colab-df-convert {\n",
              "      background-color: #3B4455;\n",
              "      fill: #D2E3FC;\n",
              "    }\n",
              "\n",
              "    [theme=dark] .colab-df-convert:hover {\n",
              "      background-color: #434B5C;\n",
              "      box-shadow: 0px 1px 3px 1px rgba(0, 0, 0, 0.15);\n",
              "      filter: drop-shadow(0px 1px 2px rgba(0, 0, 0, 0.3));\n",
              "      fill: #FFFFFF;\n",
              "    }\n",
              "  </style>\n",
              "\n",
              "      <script>\n",
              "        const buttonEl =\n",
              "          document.querySelector('#df-549c4ebb-b1a7-4a33-8560-96b1ad573093 button.colab-df-convert');\n",
              "        buttonEl.style.display =\n",
              "          google.colab.kernel.accessAllowed ? 'block' : 'none';\n",
              "\n",
              "        async function convertToInteractive(key) {\n",
              "          const element = document.querySelector('#df-549c4ebb-b1a7-4a33-8560-96b1ad573093');\n",
              "          const dataTable =\n",
              "            await google.colab.kernel.invokeFunction('convertToInteractive',\n",
              "                                                     [key], {});\n",
              "          if (!dataTable) return;\n",
              "\n",
              "          const docLinkHtml = 'Like what you see? Visit the ' +\n",
              "            '<a target=\"_blank\" href=https://colab.research.google.com/notebooks/data_table.ipynb>data table notebook</a>'\n",
              "            + ' to learn more about interactive tables.';\n",
              "          element.innerHTML = '';\n",
              "          dataTable['output_type'] = 'display_data';\n",
              "          await google.colab.output.renderOutput(dataTable, element);\n",
              "          const docLink = document.createElement('div');\n",
              "          docLink.innerHTML = docLinkHtml;\n",
              "          element.appendChild(docLink);\n",
              "        }\n",
              "      </script>\n",
              "    </div>\n",
              "  </div>\n",
              "  "
            ]
          },
          "metadata": {},
          "execution_count": 278
        }
      ],
      "source": [
        "preprocessed_df = preprocess_data(df,'sentence')\n",
        "preprocessed_df.head()"
      ]
    },
    {
      "cell_type": "code",
      "source": [
        "preprocessed_df['num_words'] = preprocessed_df.sentence.apply(len)\n"
      ],
      "metadata": {
        "id": "4flQpeMK__2P"
      },
      "execution_count": null,
      "outputs": []
    },
    {
      "cell_type": "code",
      "execution_count": null,
      "metadata": {
        "id": "dFIsnktFbAyr"
      },
      "outputs": [],
      "source": [
        "encoded_labels = {'anger': 0, 'fear': 1, 'joy': 2, 'love': 3, 'sadness': 4, 'surprise': 5}"
      ]
    },
    {
      "cell_type": "code",
      "source": [
        "train_data, test_data = train_test_split(preprocessed_df,test_size=0.3,random_state=101,shuffle=True,stratify=preprocessed_df.label)"
      ],
      "metadata": {
        "id": "Aes7ikVFAVyM"
      },
      "execution_count": null,
      "outputs": []
    },
    {
      "cell_type": "code",
      "execution_count": null,
      "metadata": {
        "id": "GYV6u758joO0",
        "colab": {
          "base_uri": "https://localhost:8080/"
        },
        "outputId": "68e18ed0-35bd-4f5c-faa5-e0e8d9d75cf1"
      },
      "outputs": [
        {
          "output_type": "stream",
          "name": "stderr",
          "text": [
            "Some layers from the model checkpoint at bert-base-uncased were not used when initializing TFBertModel: ['nsp___cls', 'mlm___cls']\n",
            "- This IS expected if you are initializing TFBertModel from the checkpoint of a model trained on another task or with another architecture (e.g. initializing a BertForSequenceClassification model from a BertForPreTraining model).\n",
            "- This IS NOT expected if you are initializing TFBertModel from the checkpoint of a model that you expect to be exactly identical (initializing a BertForSequenceClassification model from a BertForSequenceClassification model).\n",
            "All the layers of TFBertModel were initialized from the model checkpoint at bert-base-uncased.\n",
            "If your task is similar to the task the model of the checkpoint was trained on, you can already use TFBertModel for predictions without further training.\n"
          ]
        }
      ],
      "source": [
        "tokenizer = AutoTokenizer.from_pretrained(\"bert-base-uncased\")\n",
        "bert_model = TFBertModel.from_pretrained(\"bert-base-uncased\")"
      ]
    },
    {
      "cell_type": "code",
      "source": [
        "sns.displot(preprocessed_df.num_words, height=4, aspect=1.5)"
      ],
      "metadata": {
        "colab": {
          "base_uri": "https://localhost:8080/",
          "height": 424
        },
        "id": "fzUrWFtgAk0Q",
        "outputId": "1628c41e-28ea-473b-8241-1860da3d2581"
      },
      "execution_count": null,
      "outputs": [
        {
          "output_type": "execute_result",
          "data": {
            "text/plain": [
              "<seaborn.axisgrid.FacetGrid at 0x7f789be51a00>"
            ]
          },
          "metadata": {},
          "execution_count": 311
        },
        {
          "output_type": "display_data",
          "data": {
            "text/plain": [
              "<Figure size 600x400 with 1 Axes>"
            ],
            "image/png": "[encoded data removed]"
          },
          "metadata": {}
        }
      ]
    },
    {
      "cell_type": "code",
      "execution_count": null,
      "metadata": {
        "id": "_8mV57wtjoQY"
      },
      "outputs": [],
      "source": [
        "test1 = pd.concat([val,test],axis=0)"
      ]
    },
    {
      "cell_type": "code",
      "execution_count": null,
      "metadata": {
        "id": "W77MTt9WjoUW"
      },
      "outputs": [],
      "source": [
        "X_train = tokenizer(text=train_data.sentence.tolist(),\n",
        "                   add_special_tokens=True,\n",
        "                   return_tensors='tf',\n",
        "                   max_length=40,\n",
        "                   padding=True,\n",
        "                   truncation=True,\n",
        "                   return_token_type_ids=False,\n",
        "                   return_attention_mask=True,\n",
        "                   verbose=True\n",
        "                   )\n",
        "\n",
        "X_test = tokenizer(text=test_data.sentence.tolist(),\n",
        "                   add_special_tokens=True,\n",
        "                   return_tensors='tf',\n",
        "                   max_length=40,\n",
        "                   padding=True,\n",
        "                   truncation=True,\n",
        "                   return_token_type_ids=False,\n",
        "                   return_attention_mask=True,\n",
        "                   verbose=True\n",
        "                  )"
      ]
    },
    {
      "cell_type": "markdown",
      "metadata": {
        "id": "aI4zJyu-Vmxe"
      },
      "source": [
        "<h3>Defining the model architecture"
      ]
    },
    {
      "cell_type": "code",
      "execution_count": null,
      "metadata": {
        "id": "6dIA5MxZVL1F"
      },
      "outputs": [],
      "source": [
        "input_ids = Input(shape=(40,),name='input_ids',dtype=tf.int32)\n",
        "attention_mask = Input(shape=(40,),name='attention_mask',dtype=tf.int32)\n"
      ]
    },
    {
      "cell_type": "code",
      "execution_count": null,
      "metadata": {
        "id": "77cZlgQHQtTL"
      },
      "outputs": [],
      "source": [
        "embeddings = bert_model(input_ids,attention_mask=attention_mask)[0] # 0: final hidden state, 1: pooling output\n",
        "output = GlobalMaxPool1D()(embeddings)\n",
        "output = Dense(units=128,activation='relu')(output)\n",
        "output = Dropout(0.1)(output)\n",
        "output = Dense(units=64,activation='relu')(output)\n",
        "output = Dense(units=32,activation='relu')(output)\n",
        "y = Dense(units=6,activation='softmax')(output)\n",
        "\n",
        "model = Model(inputs=[input_ids,attention_mask],outputs=y)\n",
        "model.layers[2].trainable = True\n",
        "\n"
      ]
    },
    {
      "cell_type": "code",
      "execution_count": null,
      "metadata": {
        "id": "FM77Eo-XSlHP"
      },
      "outputs": [],
      "source": [
        "model.compile(loss=CategoricalCrossentropy(from_logits=True),\n",
        "              optimizer = Adam(learning_rate=5e-5,epsilon=1e-8,clipnorm=1.0),\n",
        "              metrics=CategoricalAccuracy('balanced_accuracy'))"
      ]
    },
    {
      "cell_type": "code",
      "execution_count": null,
      "metadata": {
        "id": "_yfaQy93bGkx"
      },
      "outputs": [],
      "source": [
        "train_data['Label'] = train_data.label.map(encoded_labels)\n",
        "test_data['Label'] = test_data.label.map(encoded_labels)"
      ]
    },
    {
      "cell_type": "code",
      "execution_count": null,
      "metadata": {
        "id": "a5ix9-dhbyFU",
        "colab": {
          "base_uri": "https://localhost:8080/",
          "height": 206
        },
        "outputId": "c3ae72fb-dc7c-413c-8d80-cb4145935b5f"
      },
      "outputs": [
        {
          "output_type": "execute_result",
          "data": {
            "text/plain": [
              "                                               sentence     label  num_words  \\\n",
              "571   feeling pretty overwhelmed stressed whole affa...  surprise        192   \n",
              "1925  want able leave house without feeling terrifie...      fear         71   \n",
              "1435  feel sort pathetic saying iphone internet tv m...   sadness         67   \n",
              "969   let emotion leak decision process ended feelin...     anger         57   \n",
              "466           feel idiotic letting call us best friends   sadness         41   \n",
              "\n",
              "      Label  \n",
              "571       5  \n",
              "1925      1  \n",
              "1435      4  \n",
              "969       0  \n",
              "466       4  "
            ],
            "text/html": [
              "\n",
              "  <div id=\"df-870b3c5d-f49d-4a42-91b2-5034b572fd07\">\n",
              "    <div class=\"colab-df-container\">\n",
              "      <div>\n",
              "<style scoped>\n",
              "    .dataframe tbody tr th:only-of-type {\n",
              "        vertical-align: middle;\n",
              "    }\n",
              "\n",
              "    .dataframe tbody tr th {\n",
              "        vertical-align: top;\n",
              "    }\n",
              "\n",
              "    .dataframe thead th {\n",
              "        text-align: right;\n",
              "    }\n",
              "</style>\n",
              "<table border=\"1\" class=\"dataframe\">\n",
              "  <thead>\n",
              "    <tr style=\"text-align: right;\">\n",
              "      <th></th>\n",
              "      <th>sentence</th>\n",
              "      <th>label</th>\n",
              "      <th>num_words</th>\n",
              "      <th>Label</th>\n",
              "    </tr>\n",
              "  </thead>\n",
              "  <tbody>\n",
              "    <tr>\n",
              "      <th>571</th>\n",
              "      <td>feeling pretty overwhelmed stressed whole affa...</td>\n",
              "      <td>surprise</td>\n",
              "      <td>192</td>\n",
              "      <td>5</td>\n",
              "    </tr>\n",
              "    <tr>\n",
              "      <th>1925</th>\n",
              "      <td>want able leave house without feeling terrifie...</td>\n",
              "      <td>fear</td>\n",
              "      <td>71</td>\n",
              "      <td>1</td>\n",
              "    </tr>\n",
              "    <tr>\n",
              "      <th>1435</th>\n",
              "      <td>feel sort pathetic saying iphone internet tv m...</td>\n",
              "      <td>sadness</td>\n",
              "      <td>67</td>\n",
              "      <td>4</td>\n",
              "    </tr>\n",
              "    <tr>\n",
              "      <th>969</th>\n",
              "      <td>let emotion leak decision process ended feelin...</td>\n",
              "      <td>anger</td>\n",
              "      <td>57</td>\n",
              "      <td>0</td>\n",
              "    </tr>\n",
              "    <tr>\n",
              "      <th>466</th>\n",
              "      <td>feel idiotic letting call us best friends</td>\n",
              "      <td>sadness</td>\n",
              "      <td>41</td>\n",
              "      <td>4</td>\n",
              "    </tr>\n",
              "  </tbody>\n",
              "</table>\n",
              "</div>\n",
              "      <button class=\"colab-df-convert\" onclick=\"convertToInteractive('df-870b3c5d-f49d-4a42-91b2-5034b572fd07')\"\n",
              "              title=\"Convert this dataframe to an interactive table.\"\n",
              "              style=\"display:none;\">\n",
              "        \n",
              "  <svg xmlns=\"http://www.w3.org/2000/svg\" height=\"24px\"viewBox=\"0 0 24 24\"\n",
              "       width=\"24px\">\n",
              "    <path d=\"M0 0h24v24H0V0z\" fill=\"none\"/>\n",
              "    <path d=\"M18.56 5.44l.94 2.06.94-2.06 2.06-.94-2.06-.94-.94-2.06-.94 2.06-2.06.94zm-11 1L8.5 8.5l.94-2.06 2.06-.94-2.06-.94L8.5 2.5l-.94 2.06-2.06.94zm10 10l.94 2.06.94-2.06 2.06-.94-2.06-.94-.94-2.06-.94 2.06-2.06.94z\"/><path d=\"M17.41 7.96l-1.37-1.37c-.4-.4-.92-.59-1.43-.59-.52 0-1.04.2-1.43.59L10.3 9.45l-7.72 7.72c-.78.78-.78 2.05 0 2.83L4 21.41c.39.39.9.59 1.41.59.51 0 1.02-.2 1.41-.59l7.78-7.78 2.81-2.81c.8-.78.8-2.07 0-2.86zM5.41 20L4 18.59l7.72-7.72 1.47 1.35L5.41 20z\"/>\n",
              "  </svg>\n",
              "      </button>\n",
              "      \n",
              "  <style>\n",
              "    .colab-df-container {\n",
              "      display:flex;\n",
              "      flex-wrap:wrap;\n",
              "      gap: 12px;\n",
              "    }\n",
              "\n",
              "    .colab-df-convert {\n",
              "      background-color: #E8F0FE;\n",
              "      border: none;\n",
              "      border-radius: 50%;\n",
              "      cursor: pointer;\n",
              "      display: none;\n",
              "      fill: #1967D2;\n",
              "      height: 32px;\n",
              "      padding: 0 0 0 0;\n",
              "      width: 32px;\n",
              "    }\n",
              "\n",
              "    .colab-df-convert:hover {\n",
              "      background-color: #E2EBFA;\n",
              "      box-shadow: 0px 1px 2px rgba(60, 64, 67, 0.3), 0px 1px 3px 1px rgba(60, 64, 67, 0.15);\n",
              "      fill: #174EA6;\n",
              "    }\n",
              "\n",
              "    [theme=dark] .colab-df-convert {\n",
              "      background-color: #3B4455;\n",
              "      fill: #D2E3FC;\n",
              "    }\n",
              "\n",
              "    [theme=dark] .colab-df-convert:hover {\n",
              "      background-color: #434B5C;\n",
              "      box-shadow: 0px 1px 3px 1px rgba(0, 0, 0, 0.15);\n",
              "      filter: drop-shadow(0px 1px 2px rgba(0, 0, 0, 0.3));\n",
              "      fill: #FFFFFF;\n",
              "    }\n",
              "  </style>\n",
              "\n",
              "      <script>\n",
              "        const buttonEl =\n",
              "          document.querySelector('#df-870b3c5d-f49d-4a42-91b2-5034b572fd07 button.colab-df-convert');\n",
              "        buttonEl.style.display =\n",
              "          google.colab.kernel.accessAllowed ? 'block' : 'none';\n",
              "\n",
              "        async function convertToInteractive(key) {\n",
              "          const element = document.querySelector('#df-870b3c5d-f49d-4a42-91b2-5034b572fd07');\n",
              "          const dataTable =\n",
              "            await google.colab.kernel.invokeFunction('convertToInteractive',\n",
              "                                                     [key], {});\n",
              "          if (!dataTable) return;\n",
              "\n",
              "          const docLinkHtml = 'Like what you see? Visit the ' +\n",
              "            '<a target=\"_blank\" href=https://colab.research.google.com/notebooks/data_table.ipynb>data table notebook</a>'\n",
              "            + ' to learn more about interactive tables.';\n",
              "          element.innerHTML = '';\n",
              "          dataTable['output_type'] = 'display_data';\n",
              "          await google.colab.output.renderOutput(dataTable, element);\n",
              "          const docLink = document.createElement('div');\n",
              "          docLink.innerHTML = docLinkHtml;\n",
              "          element.appendChild(docLink);\n",
              "        }\n",
              "      </script>\n",
              "    </div>\n",
              "  </div>\n",
              "  "
            ]
          },
          "metadata": {},
          "execution_count": 297
        }
      ],
      "source": [
        "train_data.head()\n"
      ]
    },
    {
      "cell_type": "code",
      "execution_count": null,
      "metadata": {
        "id": "NnRtu3P7boAp",
        "colab": {
          "base_uri": "https://localhost:8080/",
          "height": 206
        },
        "outputId": "faf1dabc-2496-4b6f-bc3c-97aaea62d927"
      },
      "outputs": [
        {
          "output_type": "execute_result",
          "data": {
            "text/plain": [
              "                                               sentence    label  num_words  \\\n",
              "913                                 feel liked days tom     love         19   \n",
              "631                                         feel better      joy         11   \n",
              "1821   continued feel submissive continued aroused well  sadness         48   \n",
              "1399  read one horrific sitting made feel ashamed wo...  sadness         54   \n",
              "527   im around husband home alone thinking feel hop...  sadness         51   \n",
              "\n",
              "      Label  \n",
              "913       3  \n",
              "631       2  \n",
              "1821      4  \n",
              "1399      4  \n",
              "527       4  "
            ],
            "text/html": [
              "\n",
              "  <div id=\"df-1203c8ba-deca-4077-8039-8eb1e54e44c1\">\n",
              "    <div class=\"colab-df-container\">\n",
              "      <div>\n",
              "<style scoped>\n",
              "    .dataframe tbody tr th:only-of-type {\n",
              "        vertical-align: middle;\n",
              "    }\n",
              "\n",
              "    .dataframe tbody tr th {\n",
              "        vertical-align: top;\n",
              "    }\n",
              "\n",
              "    .dataframe thead th {\n",
              "        text-align: right;\n",
              "    }\n",
              "</style>\n",
              "<table border=\"1\" class=\"dataframe\">\n",
              "  <thead>\n",
              "    <tr style=\"text-align: right;\">\n",
              "      <th></th>\n",
              "      <th>sentence</th>\n",
              "      <th>label</th>\n",
              "      <th>num_words</th>\n",
              "      <th>Label</th>\n",
              "    </tr>\n",
              "  </thead>\n",
              "  <tbody>\n",
              "    <tr>\n",
              "      <th>913</th>\n",
              "      <td>feel liked days tom</td>\n",
              "      <td>love</td>\n",
              "      <td>19</td>\n",
              "      <td>3</td>\n",
              "    </tr>\n",
              "    <tr>\n",
              "      <th>631</th>\n",
              "      <td>feel better</td>\n",
              "      <td>joy</td>\n",
              "      <td>11</td>\n",
              "      <td>2</td>\n",
              "    </tr>\n",
              "    <tr>\n",
              "      <th>1821</th>\n",
              "      <td>continued feel submissive continued aroused well</td>\n",
              "      <td>sadness</td>\n",
              "      <td>48</td>\n",
              "      <td>4</td>\n",
              "    </tr>\n",
              "    <tr>\n",
              "      <th>1399</th>\n",
              "      <td>read one horrific sitting made feel ashamed wo...</td>\n",
              "      <td>sadness</td>\n",
              "      <td>54</td>\n",
              "      <td>4</td>\n",
              "    </tr>\n",
              "    <tr>\n",
              "      <th>527</th>\n",
              "      <td>im around husband home alone thinking feel hop...</td>\n",
              "      <td>sadness</td>\n",
              "      <td>51</td>\n",
              "      <td>4</td>\n",
              "    </tr>\n",
              "  </tbody>\n",
              "</table>\n",
              "</div>\n",
              "      <button class=\"colab-df-convert\" onclick=\"convertToInteractive('df-1203c8ba-deca-4077-8039-8eb1e54e44c1')\"\n",
              "              title=\"Convert this dataframe to an interactive table.\"\n",
              "              style=\"display:none;\">\n",
              "        \n",
              "  <svg xmlns=\"http://www.w3.org/2000/svg\" height=\"24px\"viewBox=\"0 0 24 24\"\n",
              "       width=\"24px\">\n",
              "    <path d=\"M0 0h24v24H0V0z\" fill=\"none\"/>\n",
              "    <path d=\"M18.56 5.44l.94 2.06.94-2.06 2.06-.94-2.06-.94-.94-2.06-.94 2.06-2.06.94zm-11 1L8.5 8.5l.94-2.06 2.06-.94-2.06-.94L8.5 2.5l-.94 2.06-2.06.94zm10 10l.94 2.06.94-2.06 2.06-.94-2.06-.94-.94-2.06-.94 2.06-2.06.94z\"/><path d=\"M17.41 7.96l-1.37-1.37c-.4-.4-.92-.59-1.43-.59-.52 0-1.04.2-1.43.59L10.3 9.45l-7.72 7.72c-.78.78-.78 2.05 0 2.83L4 21.41c.39.39.9.59 1.41.59.51 0 1.02-.2 1.41-.59l7.78-7.78 2.81-2.81c.8-.78.8-2.07 0-2.86zM5.41 20L4 18.59l7.72-7.72 1.47 1.35L5.41 20z\"/>\n",
              "  </svg>\n",
              "      </button>\n",
              "      \n",
              "  <style>\n",
              "    .colab-df-container {\n",
              "      display:flex;\n",
              "      flex-wrap:wrap;\n",
              "      gap: 12px;\n",
              "    }\n",
              "\n",
              "    .colab-df-convert {\n",
              "      background-color: #E8F0FE;\n",
              "      border: none;\n",
              "      border-radius: 50%;\n",
              "      cursor: pointer;\n",
              "      display: none;\n",
              "      fill: #1967D2;\n",
              "      height: 32px;\n",
              "      padding: 0 0 0 0;\n",
              "      width: 32px;\n",
              "    }\n",
              "\n",
              "    .colab-df-convert:hover {\n",
              "      background-color: #E2EBFA;\n",
              "      box-shadow: 0px 1px 2px rgba(60, 64, 67, 0.3), 0px 1px 3px 1px rgba(60, 64, 67, 0.15);\n",
              "      fill: #174EA6;\n",
              "    }\n",
              "\n",
              "    [theme=dark] .colab-df-convert {\n",
              "      background-color: #3B4455;\n",
              "      fill: #D2E3FC;\n",
              "    }\n",
              "\n",
              "    [theme=dark] .colab-df-convert:hover {\n",
              "      background-color: #434B5C;\n",
              "      box-shadow: 0px 1px 3px 1px rgba(0, 0, 0, 0.15);\n",
              "      filter: drop-shadow(0px 1px 2px rgba(0, 0, 0, 0.3));\n",
              "      fill: #FFFFFF;\n",
              "    }\n",
              "  </style>\n",
              "\n",
              "      <script>\n",
              "        const buttonEl =\n",
              "          document.querySelector('#df-1203c8ba-deca-4077-8039-8eb1e54e44c1 button.colab-df-convert');\n",
              "        buttonEl.style.display =\n",
              "          google.colab.kernel.accessAllowed ? 'block' : 'none';\n",
              "\n",
              "        async function convertToInteractive(key) {\n",
              "          const element = document.querySelector('#df-1203c8ba-deca-4077-8039-8eb1e54e44c1');\n",
              "          const dataTable =\n",
              "            await google.colab.kernel.invokeFunction('convertToInteractive',\n",
              "                                                     [key], {});\n",
              "          if (!dataTable) return;\n",
              "\n",
              "          const docLinkHtml = 'Like what you see? Visit the ' +\n",
              "            '<a target=\"_blank\" href=https://colab.research.google.com/notebooks/data_table.ipynb>data table notebook</a>'\n",
              "            + ' to learn more about interactive tables.';\n",
              "          element.innerHTML = '';\n",
              "          dataTable['output_type'] = 'display_data';\n",
              "          await google.colab.output.renderOutput(dataTable, element);\n",
              "          const docLink = document.createElement('div');\n",
              "          docLink.innerHTML = docLinkHtml;\n",
              "          element.appendChild(docLink);\n",
              "        }\n",
              "      </script>\n",
              "    </div>\n",
              "  </div>\n",
              "  "
            ]
          },
          "metadata": {},
          "execution_count": 298
        }
      ],
      "source": [
        "test_data.head()\n"
      ]
    },
    {
      "cell_type": "code",
      "execution_count": null,
      "metadata": {
        "id": "MMpNki2HX4j9",
        "colab": {
          "base_uri": "https://localhost:8080/"
        },
        "outputId": "a6ae60a5-1ec4-40a2-dfa2-ef569a8dc036"
      },
      "outputs": [
        {
          "output_type": "stream",
          "name": "stdout",
          "text": [
            "Epoch 1/10\n"
          ]
        },
        {
          "output_type": "stream",
          "name": "stderr",
          "text": [
            "WARNING:tensorflow:Gradients do not exist for variables ['tf_bert_model_6/bert/pooler/dense/kernel:0', 'tf_bert_model_6/bert/pooler/dense/bias:0'] when minimizing the loss. If you're using `model.compile()`, did you forget to provide a `loss` argument?\n",
            "WARNING:tensorflow:Gradients do not exist for variables ['tf_bert_model_6/bert/pooler/dense/kernel:0', 'tf_bert_model_6/bert/pooler/dense/bias:0'] when minimizing the loss. If you're using `model.compile()`, did you forget to provide a `loss` argument?\n",
            "WARNING:tensorflow:Gradients do not exist for variables ['tf_bert_model_6/bert/pooler/dense/kernel:0', 'tf_bert_model_6/bert/pooler/dense/bias:0'] when minimizing the loss. If you're using `model.compile()`, did you forget to provide a `loss` argument?\n",
            "WARNING:tensorflow:Gradients do not exist for variables ['tf_bert_model_6/bert/pooler/dense/kernel:0', 'tf_bert_model_6/bert/pooler/dense/bias:0'] when minimizing the loss. If you're using `model.compile()`, did you forget to provide a `loss` argument?\n"
          ]
        },
        {
          "output_type": "stream",
          "name": "stdout",
          "text": [
            "44/44 [==============================] - 765s 16s/step - loss: 1.5111 - balanced_accuracy: 0.4271 - val_loss: 1.2413 - val_balanced_accuracy: 0.5517\n",
            "Epoch 2/10\n",
            "44/44 [==============================] - 702s 16s/step - loss: 0.9812 - balanced_accuracy: 0.6607 - val_loss: 0.7007 - val_balanced_accuracy: 0.7900\n",
            "Epoch 3/10\n",
            "44/44 [==============================] - 709s 16s/step - loss: 0.4817 - balanced_accuracy: 0.8421 - val_loss: 0.4730 - val_balanced_accuracy: 0.8467\n",
            "Epoch 4/10\n",
            "44/44 [==============================] - 705s 16s/step - loss: 0.2288 - balanced_accuracy: 0.9379 - val_loss: 0.4338 - val_balanced_accuracy: 0.8700\n",
            "Epoch 5/10\n",
            "44/44 [==============================] - 705s 16s/step - loss: 0.1161 - balanced_accuracy: 0.9700 - val_loss: 0.4260 - val_balanced_accuracy: 0.8767\n",
            "Epoch 6/10\n",
            "44/44 [==============================] - 703s 16s/step - loss: 0.0749 - balanced_accuracy: 0.9821 - val_loss: 0.4364 - val_balanced_accuracy: 0.8817\n",
            "Epoch 7/10\n",
            "44/44 [==============================] - 703s 16s/step - loss: 0.0491 - balanced_accuracy: 0.9886 - val_loss: 0.4837 - val_balanced_accuracy: 0.8850\n",
            "Epoch 8/10\n",
            "44/44 [==============================] - 712s 16s/step - loss: 0.0372 - balanced_accuracy: 0.9893 - val_loss: 0.4423 - val_balanced_accuracy: 0.9000\n",
            "Epoch 9/10\n",
            "44/44 [==============================] - 709s 16s/step - loss: 0.0156 - balanced_accuracy: 0.9971 - val_loss: 0.4655 - val_balanced_accuracy: 0.9017\n",
            "Epoch 10/10\n",
            "44/44 [==============================] - 702s 16s/step - loss: 0.0137 - balanced_accuracy: 0.9964 - val_loss: 0.4699 - val_balanced_accuracy: 0.9067\n"
          ]
        }
      ],
      "source": [
        "r = model.fit(x={'input_ids': X_train['input_ids'], 'attention_mask': X_train['attention_mask']},\n",
        "             y=to_categorical(train_data.Label),\n",
        "             epochs=10,\n",
        "             batch_size=32,\n",
        "             validation_data=({'input_ids': X_test['input_ids'], 'attention_mask': X_test['attention_mask']},to_categorical(test_data.Label))\n",
        "             )"
      ]
    },
    {
      "cell_type": "code",
      "execution_count": null,
      "metadata": {
        "id": "cZ4MEyHucCdX",
        "colab": {
          "base_uri": "https://localhost:8080/"
        },
        "outputId": "fc8b452e-b4ff-4020-c4b9-edebf93b5968"
      },
      "outputs": [
        {
          "output_type": "stream",
          "name": "stdout",
          "text": [
            "Model: \"model_2\"\n",
            "__________________________________________________________________________________________________\n",
            " Layer (type)                   Output Shape         Param #     Connected to                     \n",
            "==================================================================================================\n",
            " input_ids (InputLayer)         [(None, 40)]         0           []                               \n",
            "                                                                                                  \n",
            " attention_mask (InputLayer)    [(None, 40)]         0           []                               \n",
            "                                                                                                  \n",
            " tf_bert_model_6 (TFBertModel)  TFBaseModelOutputWi  109482240   ['input_ids[0][0]',              \n",
            "                                thPoolingAndCrossAt               'attention_mask[0][0]']         \n",
            "                                tentions(last_hidde                                               \n",
            "                                n_state=(None, 40,                                                \n",
            "                                768),                                                             \n",
            "                                 pooler_output=(Non                                               \n",
            "                                e, 768),                                                          \n",
            "                                 past_key_values=No                                               \n",
            "                                ne, hidden_states=N                                               \n",
            "                                one, attentions=Non                                               \n",
            "                                e, cross_attentions                                               \n",
            "                                =None)                                                            \n",
            "                                                                                                  \n",
            " global_max_pooling1d_2 (Global  (None, 768)         0           ['tf_bert_model_6[1][0]']        \n",
            " MaxPooling1D)                                                                                    \n",
            "                                                                                                  \n",
            " dense_8 (Dense)                (None, 128)          98432       ['global_max_pooling1d_2[0][0]'] \n",
            "                                                                                                  \n",
            " dropout_299 (Dropout)          (None, 128)          0           ['dense_8[0][0]']                \n",
            "                                                                                                  \n",
            " dense_9 (Dense)                (None, 64)           8256        ['dropout_299[0][0]']            \n",
            "                                                                                                  \n",
            " dense_10 (Dense)               (None, 32)           2080        ['dense_9[0][0]']                \n",
            "                                                                                                  \n",
            " dense_11 (Dense)               (None, 6)            198         ['dense_10[0][0]']               \n",
            "                                                                                                  \n",
            "==================================================================================================\n",
            "Total params: 109,591,206\n",
            "Trainable params: 109,591,206\n",
            "Non-trainable params: 0\n",
            "__________________________________________________________________________________________________\n"
          ]
        }
      ],
      "source": [
        "model.summary()\n"
      ]
    },
    {
      "cell_type": "code",
      "source": [
        "plt.figure(figsize=(12,8))\n",
        "plt.plot(r.history['loss'],'r',label='train loss')\n",
        "plt.plot(r.history['val_loss'],'b',label='test loss')\n",
        "plt.xlabel('No. of Epochs')\n",
        "plt.ylabel('Loss')\n",
        "plt.title('Loss Graph')\n",
        "plt.legend();"
      ],
      "metadata": {
        "colab": {
          "base_uri": "https://localhost:8080/",
          "height": 718
        },
        "id": "JxiKdrJaBmfl",
        "outputId": "348fd02a-72c1-4485-f010-64d332eeede1"
      },
      "execution_count": null,
      "outputs": [
        {
          "output_type": "display_data",
          "data": {
            "text/plain": [
              "<Figure size 1200x800 with 1 Axes>"
            ],
            "image/png": "[encoded data removed]"
          },
          "metadata": {}
        }
      ]
    },
    {
      "cell_type": "code",
      "source": [
        "plt.figure(figsize=(12,8))\n",
        "plt.plot(r.history['balanced_accuracy'],'r',label='train accuracy')\n",
        "plt.plot(r.history['val_balanced_accuracy'],'b',label='test accuracy')\n",
        "plt.xlabel('No. of Epochs')\n",
        "plt.ylabel('Accuracy')\n",
        "plt.title('Accuracy Graph')\n",
        "plt.legend();"
      ],
      "metadata": {
        "colab": {
          "base_uri": "https://localhost:8080/",
          "height": 718
        },
        "id": "O6OzOWipBqhs",
        "outputId": "1f695954-5015-4abc-cb77-bae2d9f95631"
      },
      "execution_count": null,
      "outputs": [
        {
          "output_type": "display_data",
          "data": {
            "text/plain": [
              "<Figure size 1200x800 with 1 Axes>"
            ],
            "image/png": "[encoded data removed]"
          },
          "metadata": {}
        }
      ]
    },
    {
      "cell_type": "code",
      "source": [
        "loss, acc = model.evaluate({'input_ids': X_test['input_ids'], 'attention_mask': X_test['attention_mask']},to_categorical(test_data.Label))\n",
        "print(\"Test Categorical Cross-Entropy Loss:\",loss)\n",
        "print(\"Test Categorical Accuracy:\",acc)\n"
      ],
      "metadata": {
        "colab": {
          "base_uri": "https://localhost:8080/"
        },
        "id": "ZWVl4Yshd7lC",
        "outputId": "42307ebc-a942-470f-d030-6c49412503ed"
      },
      "execution_count": null,
      "outputs": [
        {
          "output_type": "stream",
          "name": "stdout",
          "text": [
            "19/19 [==============================] - 99s 5s/step - loss: 0.4699 - balanced_accuracy: 0.9067\n",
            "Test Categorical Cross-Entropy Loss: 0.4699247181415558\n",
            "Test Categorical Accuracy: 0.9066666960716248\n"
          ]
        }
      ]
    },
    {
      "cell_type": "code",
      "source": [
        "test_predictions = model.predict({'input_ids': X_test['input_ids'], 'attention_mask': X_test['attention_mask']})\n",
        "test_predictions = np.argmax(test_predictions,axis=1)\n",
        "print(classification_report(test_data.Label,test_predictions))"
      ],
      "metadata": {
        "colab": {
          "base_uri": "https://localhost:8080/"
        },
        "id": "Ndp4RFv0gfTT",
        "outputId": "91f18418-6490-4f48-d2a7-dedfaba66d72"
      },
      "execution_count": null,
      "outputs": [
        {
          "output_type": "stream",
          "name": "stdout",
          "text": [
            "19/19 [==============================] - 87s 4s/step\n",
            "              precision    recall  f1-score   support\n",
            "\n",
            "           0       0.94      0.87      0.91        77\n",
            "           1       0.89      0.90      0.90        71\n",
            "           2       0.90      0.95      0.92       211\n",
            "           3       0.85      0.85      0.85        47\n",
            "           4       0.93      0.90      0.92       173\n",
            "           5       0.81      0.81      0.81        21\n",
            "\n",
            "    accuracy                           0.91       600\n",
            "   macro avg       0.89      0.88      0.88       600\n",
            "weighted avg       0.91      0.91      0.91       600\n",
            "\n"
          ]
        }
      ]
    },
    {
      "cell_type": "code",
      "source": [],
      "metadata": {
        "id": "NlKE21KegrSO"
      },
      "execution_count": null,
      "outputs": []
    },
    {
      "cell_type": "markdown",
      "source": [
        "<h1>Comparison"
      ],
      "metadata": {
        "id": "UfxBLjsykD7W"
      }
    },
    {
      "cell_type": "code",
      "source": [
        "import matplotlib.pyplot as plt\n",
        "\n",
        "# Define the data\n",
        "test_accuracies = [0.9066666960716248, 0.9215]\n",
        "train_accuracies = [0.9964, 0.9847]\n",
        "models = ['BERT', 'CNN-LSTM']\n",
        "\n",
        "# Set the figure size\n",
        "plt.figure(figsize=(12, 6))\n",
        "\n",
        "# Create subplots for test and train accuracies\n",
        "ax1 = plt.subplot(1, 2, 1)\n",
        "ax1.bar(models, test_accuracies)\n",
        "ax1.set_xlabel('Models')\n",
        "ax1.set_ylabel('Test Accuracy')\n",
        "ax1.set_title('Comparison of Test Accuracies')\n",
        "ax1.set_ylim(0.8, 1.0)  # Set the y-axis limits\n",
        "\n",
        "ax2 = plt.subplot(1, 2, 2)\n",
        "ax2.bar(models, train_accuracies)\n",
        "ax2.set_xlabel('Models')\n",
        "ax2.set_ylabel('Train Accuracy')\n",
        "ax2.set_title('Comparison of Train Accuracies')\n",
        "ax2.set_ylim(0.8, 1.0)  # Set the y-axis limits\n",
        "\n",
        "plt.show()\n"
      ],
      "metadata": {
        "colab": {
          "base_uri": "https://localhost:8080/",
          "height": 564
        },
        "id": "H9zRPjZZkL_p",
        "outputId": "f7237ced-532e-40dd-c413-e9a1d7a2ae3a"
      },
      "execution_count": null,
      "outputs": [
        {
          "output_type": "display_data",
          "data": {
            "text/plain": [
              "<Figure size 1200x600 with 2 Axes>"
            ],
            "image/png": "[encoded data removed]"
          },
          "metadata": {}
        }
      ]
    },
    {
      "cell_type": "code",
      "source": [
        "import matplotlib.pyplot as plt\n",
        "\n",
        "# Define the data\n",
        "test_accuracies = [0.9066666960716248, 0.9215]\n",
        "train_accuracies = [0.9964, 0.9847]\n",
        "models = ['BERT', 'CNN-LSTM']\n",
        "\n",
        "# Set the figure size\n",
        "plt.figure(figsize=(8, 6))\n",
        "\n",
        "# Create a combined bar chart for test and train accuracies\n",
        "plt.bar(models, test_accuracies, label='Test Accuracy')\n",
        "plt.bar(models, train_accuracies, label='Train Accuracy', alpha=0.5)\n",
        "plt.xlabel('Models')\n",
        "plt.ylabel('Accuracy')\n",
        "plt.title('Comparison of Test and Train Accuracies')\n",
        "plt.ylim(0.8, 1.0)  # Set the y-axis limits\n",
        "plt.legend()  # Add legend\n",
        "plt.show()\n"
      ],
      "metadata": {
        "colab": {
          "base_uri": "https://localhost:8080/",
          "height": 564
        },
        "id": "CG78GWCFlvNF",
        "outputId": "64e192f6-ca20-4cf3-e7db-8247c3f8881c"
      },
      "execution_count": null,
      "outputs": [
        {
          "output_type": "display_data",
          "data": {
            "text/plain": [
              "<Figure size 800x600 with 1 Axes>"
            ],
            "image/png": "[encoded data removed]"
          },
          "metadata": {}
        }
      ]
    },
    {
      "cell_type": "code",
      "source": [],
      "metadata": {
        "id": "jby9EKodmxto"
      },
      "execution_count": null,
      "outputs": []
    }
  ],
  "metadata": {
    "colab": {
      "provenance": [],
      "toc_visible": true
    },
    "kernelspec": {
      "display_name": "Python 3",
      "name": "python3"
    },
    "language_info": {
      "name": "python"
    }
  },
  "nbformat": 4,
  "nbformat_minor": 0
}